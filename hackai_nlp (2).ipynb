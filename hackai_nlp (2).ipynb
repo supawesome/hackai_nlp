{
  "cells": [
    {
      "cell_type": "code",
      "execution_count": 16,
      "metadata": {
        "id": "kJCoOSgDQA-k"
      },
      "outputs": [],
      "source": [
        "import pandas as pd\n",
        "import numpy as np"
      ]
    },
    {
      "cell_type": "markdown",
      "metadata": {
        "id": "DL9SOAgrwWR-"
      },
      "source": [
        "# Data preparation"
      ]
    },
    {
      "cell_type": "code",
      "execution_count": 115,
      "metadata": {
        "id": "I-Ml9afXTkRi"
      },
      "outputs": [],
      "source": [
        "df1 = pd.read_csv('/content/drive/MyDrive/fsa_hack/data1.csv', sep=\"\\t\") \n",
        "df2 = pd.read_csv('/content/drive/MyDrive/fsa_hack/data2.csv', sep=\"\\t\") \n",
        "df1e = pd.read_csv('/content/drive/MyDrive/fsa_hack/data1_ep.csv', sep=\"\\t\") \n",
        "df2e = pd.read_csv('/content/drive/MyDrive/fsa_hack/data2_ep.csv', sep=\"\\t\") \n",
        "dfc = df1e = pd.read_csv('/content/drive/MyDrive/fsa_hack/categories.csv', sep=\"\\t\")"
      ]
    },
    {
      "cell_type": "code",
      "execution_count": 116,
      "metadata": {
        "colab": {
          "base_uri": "https://localhost:8080/",
          "height": 397
        },
        "id": "xDqgXDerVBfA",
        "outputId": "04534e07-da90-4a47-9b09-aca06eacbe32"
      },
      "outputs": [
        {
          "name": "stdout",
          "output_type": "stream",
          "text": [
            "<class 'pandas.core.frame.DataFrame'>\n",
            "RangeIndex: 267684 entries, 0 to 267683\n",
            "Data columns (total 4 columns):\n",
            " #   Column                                                     Non-Null Count   Dtype \n",
            "---  ------                                                     --------------   ----- \n",
            " 0   id                                                         267684 non-null  int64 \n",
            " 1   Общее наименование продукции                               267684 non-null  object\n",
            " 2   Раздел ЕП РФ (Код из ФГИС ФСА для подкатегории продукции)  267684 non-null  object\n",
            " 3   Подкатегория продукции                                     267684 non-null  object\n",
            "dtypes: int64(1), object(3)\n",
            "memory usage: 8.2+ MB\n"
          ]
        },
        {
          "data": {
            "text/html": [
              "<div>\n",
              "<style scoped>\n",
              "    .dataframe tbody tr th:only-of-type {\n",
              "        vertical-align: middle;\n",
              "    }\n",
              "\n",
              "    .dataframe tbody tr th {\n",
              "        vertical-align: top;\n",
              "    }\n",
              "\n",
              "    .dataframe thead th {\n",
              "        text-align: right;\n",
              "    }\n",
              "</style>\n",
              "<table border=\"1\" class=\"dataframe\">\n",
              "  <thead>\n",
              "    <tr style=\"text-align: right;\">\n",
              "      <th></th>\n",
              "      <th>id</th>\n",
              "      <th>Общее наименование продукции</th>\n",
              "      <th>Раздел ЕП РФ (Код из ФГИС ФСА для подкатегории продукции)</th>\n",
              "      <th>Подкатегория продукции</th>\n",
              "    </tr>\n",
              "  </thead>\n",
              "  <tbody>\n",
              "    <tr>\n",
              "      <th>0</th>\n",
              "      <td>1</td>\n",
              "      <td>Парацетамол таблетки 500 мг 10 шт., упаковки я...</td>\n",
              "      <td>9300.1</td>\n",
              "      <td>Лекарственные средства, зарегистрированные в у...</td>\n",
              "    </tr>\n",
              "    <tr>\n",
              "      <th>1</th>\n",
              "      <td>2</td>\n",
              "      <td>Перезаряжаемая литий-ионная батарея торговой м...</td>\n",
              "      <td>3482.2</td>\n",
              "      <td>Аккумуляторы и аккумуляторные батареи никель-м...</td>\n",
              "    </tr>\n",
              "    <tr>\n",
              "      <th>2</th>\n",
              "      <td>3</td>\n",
              "      <td>Перезаряжаемая литий-ионная батарея торговой м...</td>\n",
              "      <td>3482.2</td>\n",
              "      <td>Аккумуляторы и аккумуляторные батареи никель-м...</td>\n",
              "    </tr>\n",
              "    <tr>\n",
              "      <th>3</th>\n",
              "      <td>4</td>\n",
              "      <td>Аппарат вакуумно-лазерной терапии стоматологич...</td>\n",
              "      <td>9444.4</td>\n",
              "      <td>Приборы и аппараты для электролечения высокоча...</td>\n",
              "    </tr>\n",
              "    <tr>\n",
              "      <th>4</th>\n",
              "      <td>5</td>\n",
              "      <td>Блоки оконные и балконные дверные из алюминиев...</td>\n",
              "      <td>5270.1</td>\n",
              "      <td>Блоки оконные и балконные дверные из алюминиев...</td>\n",
              "    </tr>\n",
              "  </tbody>\n",
              "</table>\n",
              "</div>"
            ],
            "text/plain": [
              "   id  ...                             Подкатегория продукции\n",
              "0   1  ...  Лекарственные средства, зарегистрированные в у...\n",
              "1   2  ...  Аккумуляторы и аккумуляторные батареи никель-м...\n",
              "2   3  ...  Аккумуляторы и аккумуляторные батареи никель-м...\n",
              "3   4  ...  Приборы и аппараты для электролечения высокоча...\n",
              "4   5  ...  Блоки оконные и балконные дверные из алюминиев...\n",
              "\n",
              "[5 rows x 4 columns]"
            ]
          },
          "execution_count": 116,
          "metadata": {},
          "output_type": "execute_result"
        }
      ],
      "source": [
        "df = pd.DataFrame()\n",
        "\n",
        "df = df2\n",
        "\n",
        "df.info()\n",
        "df.head()"
      ]
    },
    {
      "cell_type": "code",
      "execution_count": 117,
      "metadata": {
        "colab": {
          "base_uri": "https://localhost:8080/",
          "height": 293
        },
        "id": "I3e3CK9mQA-x",
        "outputId": "626b8082-c1ce-4947-99f2-3b40d6474973"
      },
      "outputs": [
        {
          "data": {
            "text/html": [
              "<div>\n",
              "<style scoped>\n",
              "    .dataframe tbody tr th:only-of-type {\n",
              "        vertical-align: middle;\n",
              "    }\n",
              "\n",
              "    .dataframe tbody tr th {\n",
              "        vertical-align: top;\n",
              "    }\n",
              "\n",
              "    .dataframe thead th {\n",
              "        text-align: right;\n",
              "    }\n",
              "</style>\n",
              "<table border=\"1\" class=\"dataframe\">\n",
              "  <thead>\n",
              "    <tr style=\"text-align: right;\">\n",
              "      <th></th>\n",
              "      <th>Общее наименование продукции</th>\n",
              "      <th>Раздел ЕП РФ (Код из ФГИС ФСА для подкатегории продукции)</th>\n",
              "      <th>Подкатегория продукции</th>\n",
              "      <th>category</th>\n",
              "    </tr>\n",
              "  </thead>\n",
              "  <tbody>\n",
              "    <tr>\n",
              "      <th>0</th>\n",
              "      <td>Парацетамол таблетки 500 мг 10 шт., упаковки я...</td>\n",
              "      <td>9300.1</td>\n",
              "      <td>Лекарственные средства, зарегистрированные в у...</td>\n",
              "      <td>9300</td>\n",
              "    </tr>\n",
              "    <tr>\n",
              "      <th>1</th>\n",
              "      <td>Перезаряжаемая литий-ионная батарея торговой м...</td>\n",
              "      <td>3482.2</td>\n",
              "      <td>Аккумуляторы и аккумуляторные батареи никель-м...</td>\n",
              "      <td>3482</td>\n",
              "    </tr>\n",
              "    <tr>\n",
              "      <th>2</th>\n",
              "      <td>Перезаряжаемая литий-ионная батарея торговой м...</td>\n",
              "      <td>3482.2</td>\n",
              "      <td>Аккумуляторы и аккумуляторные батареи никель-м...</td>\n",
              "      <td>3482</td>\n",
              "    </tr>\n",
              "    <tr>\n",
              "      <th>3</th>\n",
              "      <td>Аппарат вакуумно-лазерной терапии стоматологич...</td>\n",
              "      <td>9444.4</td>\n",
              "      <td>Приборы и аппараты для электролечения высокоча...</td>\n",
              "      <td>9444</td>\n",
              "    </tr>\n",
              "    <tr>\n",
              "      <th>4</th>\n",
              "      <td>Блоки оконные и балконные дверные из алюминиев...</td>\n",
              "      <td>5270.1</td>\n",
              "      <td>Блоки оконные и балконные дверные из алюминиев...</td>\n",
              "      <td>5270</td>\n",
              "    </tr>\n",
              "  </tbody>\n",
              "</table>\n",
              "</div>"
            ],
            "text/plain": [
              "                        Общее наименование продукции  ... category\n",
              "0  Парацетамол таблетки 500 мг 10 шт., упаковки я...  ...     9300\n",
              "1  Перезаряжаемая литий-ионная батарея торговой м...  ...     3482\n",
              "2  Перезаряжаемая литий-ионная батарея торговой м...  ...     3482\n",
              "3  Аппарат вакуумно-лазерной терапии стоматологич...  ...     9444\n",
              "4  Блоки оконные и балконные дверные из алюминиев...  ...     5270\n",
              "\n",
              "[5 rows x 4 columns]"
            ]
          },
          "execution_count": 117,
          "metadata": {},
          "output_type": "execute_result"
        }
      ],
      "source": [
        "del df2 \n",
        "df = df.drop(columns = 'id')\n",
        "df['category'] = df['Раздел ЕП РФ (Код из ФГИС ФСА для подкатегории продукции)'].apply(lambda x: x.split('.')[0])\n",
        "df['category'] = df['category'].apply(lambda x: int(x.split(';')[0]))\n",
        "df.head()"
      ]
    },
    {
      "cell_type": "code",
      "execution_count": 118,
      "metadata": {
        "id": "JqgKxJAw_wy2"
      },
      "outputs": [],
      "source": [
        "del df1, df1e, df2e"
      ]
    },
    {
      "cell_type": "code",
      "execution_count": 157,
      "metadata": {
        "id": "UtpbrSWGWSCF"
      },
      "outputs": [],
      "source": [
        "df.rename(columns={\"Общее наименование продукции\": \"text\", \n",
        "                   \"Раздел ЕП РФ (Код из ФГИС ФСА для подкатегории продукции)\": \"subcategory\",\n",
        "                   \"Подкатегория продукции\": \"subcategory_name\"},\n",
        "          inplace=True)"
      ]
    },
    {
      "cell_type": "code",
      "execution_count": 120,
      "metadata": {
        "colab": {
          "base_uri": "https://localhost:8080/",
          "height": 206
        },
        "id": "R1QrNECwXkZl",
        "outputId": "35ffb11f-6013-4299-805b-3621fc117029"
      },
      "outputs": [
        {
          "data": {
            "text/html": [
              "<div>\n",
              "<style scoped>\n",
              "    .dataframe tbody tr th:only-of-type {\n",
              "        vertical-align: middle;\n",
              "    }\n",
              "\n",
              "    .dataframe tbody tr th {\n",
              "        vertical-align: top;\n",
              "    }\n",
              "\n",
              "    .dataframe thead th {\n",
              "        text-align: right;\n",
              "    }\n",
              "</style>\n",
              "<table border=\"1\" class=\"dataframe\">\n",
              "  <thead>\n",
              "    <tr style=\"text-align: right;\">\n",
              "      <th></th>\n",
              "      <th>text</th>\n",
              "      <th>subcategory</th>\n",
              "      <th>subcategory_name</th>\n",
              "      <th>category</th>\n",
              "    </tr>\n",
              "  </thead>\n",
              "  <tbody>\n",
              "    <tr>\n",
              "      <th>0</th>\n",
              "      <td>[парацетамол, таблетки, мг, шт, упаковки, ячей...</td>\n",
              "      <td>9300.1</td>\n",
              "      <td>Лекарственные средства, зарегистрированные в у...</td>\n",
              "      <td>9300</td>\n",
              "    </tr>\n",
              "    <tr>\n",
              "      <th>1</th>\n",
              "      <td>[перезаряжаемая, литий, ионная, батарея, торго...</td>\n",
              "      <td>3482.2</td>\n",
              "      <td>Аккумуляторы и аккумуляторные батареи никель-м...</td>\n",
              "      <td>3482</td>\n",
              "    </tr>\n",
              "    <tr>\n",
              "      <th>2</th>\n",
              "      <td>[перезаряжаемая, литий, ионная, батарея, торго...</td>\n",
              "      <td>3482.2</td>\n",
              "      <td>Аккумуляторы и аккумуляторные батареи никель-м...</td>\n",
              "      <td>3482</td>\n",
              "    </tr>\n",
              "    <tr>\n",
              "      <th>3</th>\n",
              "      <td>[аппарат, вакуумно, лазерной, терапии, стомато...</td>\n",
              "      <td>9444.4</td>\n",
              "      <td>Приборы и аппараты для электролечения высокоча...</td>\n",
              "      <td>9444</td>\n",
              "    </tr>\n",
              "    <tr>\n",
              "      <th>4</th>\n",
              "      <td>[блоки, оконные, и, балконные, дверные, из, ал...</td>\n",
              "      <td>5270.1</td>\n",
              "      <td>Блоки оконные и балконные дверные из алюминиев...</td>\n",
              "      <td>5270</td>\n",
              "    </tr>\n",
              "  </tbody>\n",
              "</table>\n",
              "</div>"
            ],
            "text/plain": [
              "                                                text  ... category\n",
              "0  [парацетамол, таблетки, мг, шт, упаковки, ячей...  ...     9300\n",
              "1  [перезаряжаемая, литий, ионная, батарея, торго...  ...     3482\n",
              "2  [перезаряжаемая, литий, ионная, батарея, торго...  ...     3482\n",
              "3  [аппарат, вакуумно, лазерной, терапии, стомато...  ...     9444\n",
              "4  [блоки, оконные, и, балконные, дверные, из, ал...  ...     5270\n",
              "\n",
              "[5 rows x 4 columns]"
            ]
          },
          "execution_count": 120,
          "metadata": {},
          "output_type": "execute_result"
        }
      ],
      "source": [
        "import re\n",
        "df[\"text\"] = df['text'].apply(lambda x: re.findall(r'[а-я]+', x.lower()))\n",
        "df.head()"
      ]
    },
    {
      "cell_type": "code",
      "execution_count": null,
      "metadata": {
        "id": "XZHTNd11Y_V6"
      },
      "outputs": [],
      "source": [
        "!pip install pymorphy2"
      ]
    },
    {
      "cell_type": "code",
      "execution_count": 121,
      "metadata": {
        "id": "BGIZaB9iXgSL"
      },
      "outputs": [],
      "source": [
        "import pymorphy2\n",
        "\n",
        "def pos(text, morph=pymorphy2.MorphAnalyzer()):\n",
        "    functors_pos = {'INTJ', 'PRCL', 'CONJ', 'PREP'}\n",
        "    r = []\n",
        "    for w in text:\n",
        "        if w not in functors_pos:\n",
        "            r.append(w)\n",
        "    return ' '.join(r)\n",
        "df['text'] =df['text'].apply(pos)"
      ]
    },
    {
      "cell_type": "code",
      "execution_count": 122,
      "metadata": {
        "id": "UH82vzRPXz6q"
      },
      "outputs": [],
      "source": [
        "df = df.astype({'subcategory': 'str',\n",
        "           'subcategory_name': 'str',\n",
        "           'category': 'str'}\n",
        "          )"
      ]
    },
    {
      "cell_type": "code",
      "execution_count": 124,
      "metadata": {
        "id": "BcI8RtVkaaCE"
      },
      "outputs": [],
      "source": [
        "from sklearn.model_selection import train_test_split\n",
        "train, test = train_test_split(df, test_size=0.3)"
      ]
    },
    {
      "cell_type": "code",
      "execution_count": 125,
      "metadata": {
        "id": "ouA9_r9h3mfX"
      },
      "outputs": [],
      "source": [
        "data = df"
      ]
    },
    {
      "cell_type": "markdown",
      "metadata": {
        "id": "8L4DuNenuEPl"
      },
      "source": [
        "# Обучение модели\n",
        "source: https://www.kaggle.com/constantinwerner/three-berts-to-solve-intent-classification"
      ]
    },
    {
      "cell_type": "code",
      "execution_count": 126,
      "metadata": {
        "id": "KcDsVTCd3mh4"
      },
      "outputs": [],
      "source": [
        "NUM_LABELS=len(set(data['category']))"
      ]
    },
    {
      "cell_type": "code",
      "execution_count": 127,
      "metadata": {
        "id": "x4solFzD3mkT"
      },
      "outputs": [],
      "source": [
        "labels=set(data['category'])"
      ]
    },
    {
      "cell_type": "code",
      "execution_count": 128,
      "metadata": {
        "id": "rYTsmn7z3mnA"
      },
      "outputs": [],
      "source": [
        "id2label = {i:label for i,label in enumerate(labels) if label != None}\n",
        "label2id = {label:i for i,label in enumerate(labels) if label != None}"
      ]
    },
    {
      "cell_type": "code",
      "execution_count": 129,
      "metadata": {
        "colab": {
          "base_uri": "https://localhost:8080/"
        },
        "id": "TDLqgggE3mra",
        "outputId": "bb520b3c-18b3-4adc-8c66-8ed9830bdbcf"
      },
      "outputs": [
        {
          "name": "stdout",
          "output_type": "stream",
          "text": [
            "9300    160098\n",
            "2293     12508\n",
            "2364     12290\n",
            "3482      5014\n",
            "9392      4396\n",
            "         ...  \n",
            "5341         1\n",
            "964          1\n",
            "3416         1\n",
            "2322         1\n",
            "9381         1\n",
            "Name: category, Length: 129, dtype: int64\n",
            "examples:\n",
            " перезаряжаемая литий ионная батарея торговой марки модель\n",
            "ацетилсалициловая кислота таблетки мг шт упаковки ячейковые контурные рег р от дата переоформления серия партия упаковок годен до производства оао фармстандарт лексредства инн курская область курск ул я агрегатная а россия код окпд\n",
            "лекарственный препарат натрия хлорид буфус растворитель для приготовления лекарственных форм для инъекций мл ампулы полимерные пачки картонные серия партия упаковок\n",
            "мелаксен таблетки покрытые оболочкой мг шт упаковки ячейковые контурные пачки картонные годен до код тн вэд контракт р от инвойс от\n"
          ]
        }
      ],
      "source": [
        "print(data['category'].value_counts())\n",
        "print('examples:\\n',data['text'].iloc[2]+'\\n'+data['text'].iloc[929]+'\\n'+data['text'].iloc[24]+'\\n'+data['text'].iloc[1224])"
      ]
    },
    {
      "cell_type": "code",
      "execution_count": 33,
      "metadata": {
        "colab": {
          "base_uri": "https://localhost:8080/"
        },
        "id": "xv9CNrn7ANaA",
        "outputId": "27c003ea-8eef-4e6f-fa2e-e2101b25454c",
        "tags": []
      },
      "outputs": [
        {
          "name": "stdout",
          "output_type": "stream",
          "text": [
            "Defaulting to user installation because normal site-packages is not writeable\n",
            "Collecting datasets\n",
            "  Downloading datasets-1.15.1-py3-none-any.whl (290 kB)\n",
            "ERROR: After October 2020 you may experience errors when installing or updating packages. This is because pip will change the way that it resolves dependency conflicts.\n",
            "\n",
            "We recommend you use --use-feature=2020-resolver to test your packages with the new resolver before it becomes the default.\n",
            "\n",
            "transformers 4.9.0 requires huggingface-hub==0.0.12, but you'll have huggingface-hub 0.1.2 which is incompatible.\n",
            "WARNING: You are using pip version 20.2.3; however, version 21.3.1 is available.\n",
            "You should consider upgrading via the 'f:\\python3.9\\python.exe -m pip install --upgrade pip' command.\n",
            "Collecting pyarrow!=4.0.0,>=1.0.0\n",
            "  Downloading pyarrow-6.0.1-cp39-cp39-win_amd64.whl (15.5 MB)\n",
            "Collecting tqdm>=4.62.1\n",
            "  Downloading tqdm-4.62.3-py2.py3-none-any.whl (76 kB)\n",
            "Requirement already satisfied: pandas in c:\\users\\egor\\appdata\\roaming\\python\\python39\\site-packages (from datasets) (1.2.4)\n",
            "Collecting aiohttp\n",
            "  Downloading aiohttp-3.8.1-cp39-cp39-win_amd64.whl (554 kB)\n",
            "Collecting xxhash\n",
            "  Downloading xxhash-2.0.2-cp39-cp39-win_amd64.whl (35 kB)\n",
            "Collecting multiprocess\n",
            "  Downloading multiprocess-0.70.12.2-py39-none-any.whl (128 kB)\n",
            "Requirement already satisfied: packaging in c:\\users\\egor\\appdata\\roaming\\python\\python39\\site-packages (from datasets) (20.9)\n",
            "Collecting dill\n",
            "  Downloading dill-0.3.4-py2.py3-none-any.whl (86 kB)\n",
            "Requirement already satisfied: numpy>=1.17 in c:\\users\\egor\\appdata\\roaming\\python\\python39\\site-packages (from datasets) (1.20.2)\n",
            "Collecting huggingface-hub<1.0.0,>=0.1.0\n",
            "  Downloading huggingface_hub-0.1.2-py3-none-any.whl (59 kB)\n",
            "Requirement already satisfied: requests>=2.19.0 in c:\\users\\egor\\appdata\\roaming\\python\\python39\\site-packages (from datasets) (2.25.1)\n",
            "Collecting fsspec[http]>=2021.05.0\n",
            "  Downloading fsspec-2021.11.0-py3-none-any.whl (132 kB)\n",
            "Requirement already satisfied: colorama; platform_system == \"Windows\" in c:\\users\\egor\\appdata\\roaming\\python\\python39\\site-packages (from tqdm>=4.62.1->datasets) (0.4.4)\n",
            "Requirement already satisfied: python-dateutil>=2.7.3 in c:\\users\\egor\\appdata\\roaming\\python\\python39\\site-packages (from pandas->datasets) (2.8.1)\n",
            "Requirement already satisfied: pytz>=2017.3 in c:\\users\\egor\\appdata\\roaming\\python\\python39\\site-packages (from pandas->datasets) (2021.1)\n",
            "Collecting aiosignal>=1.1.2\n",
            "  Downloading aiosignal-1.2.0-py3-none-any.whl (8.2 kB)\n",
            "Collecting charset-normalizer<3.0,>=2.0\n",
            "  Downloading charset_normalizer-2.0.7-py3-none-any.whl (38 kB)\n",
            "Collecting yarl<2.0,>=1.0\n",
            "  Downloading yarl-1.7.2-cp39-cp39-win_amd64.whl (122 kB)\n",
            "Requirement already satisfied: attrs>=17.3.0 in c:\\users\\egor\\appdata\\roaming\\python\\python39\\site-packages (from aiohttp->datasets) (20.3.0)\n",
            "Collecting multidict<7.0,>=4.5\n",
            "  Downloading multidict-5.2.0-cp39-cp39-win_amd64.whl (45 kB)\n",
            "Collecting async-timeout<5.0,>=4.0.0a3\n",
            "  Downloading async_timeout-4.0.1-py3-none-any.whl (5.7 kB)\n",
            "Collecting frozenlist>=1.1.1\n",
            "  Downloading frozenlist-1.2.0-cp39-cp39-win_amd64.whl (83 kB)\n",
            "Requirement already satisfied: pyparsing>=2.0.2 in c:\\users\\egor\\appdata\\roaming\\python\\python39\\site-packages (from packaging->datasets) (2.4.7)\n",
            "Requirement already satisfied: filelock in c:\\users\\egor\\appdata\\roaming\\python\\python39\\site-packages (from huggingface-hub<1.0.0,>=0.1.0->datasets) (3.0.12)\n",
            "Requirement already satisfied: typing-extensions>=3.7.4.3 in c:\\users\\egor\\appdata\\roaming\\python\\python39\\site-packages (from huggingface-hub<1.0.0,>=0.1.0->datasets) (3.7.4.3)\n",
            "Requirement already satisfied: pyyaml in c:\\users\\egor\\appdata\\roaming\\python\\python39\\site-packages (from huggingface-hub<1.0.0,>=0.1.0->datasets) (5.4.1)\n",
            "Requirement already satisfied: chardet<5,>=3.0.2 in c:\\users\\egor\\appdata\\roaming\\python\\python39\\site-packages (from requests>=2.19.0->datasets) (4.0.0)\n",
            "Requirement already satisfied: certifi>=2017.4.17 in c:\\users\\egor\\appdata\\roaming\\python\\python39\\site-packages (from requests>=2.19.0->datasets) (2020.12.5)\n",
            "Requirement already satisfied: urllib3<1.27,>=1.21.1 in c:\\users\\egor\\appdata\\roaming\\python\\python39\\site-packages (from requests>=2.19.0->datasets) (1.26.4)\n",
            "Requirement already satisfied: idna<3,>=2.5 in c:\\users\\egor\\appdata\\roaming\\python\\python39\\site-packages (from requests>=2.19.0->datasets) (2.10)\n",
            "Requirement already satisfied: six>=1.5 in c:\\users\\egor\\appdata\\roaming\\python\\python39\\site-packages (from python-dateutil>=2.7.3->pandas->datasets) (1.15.0)\n",
            "Installing collected packages: pyarrow, tqdm, frozenlist, aiosignal, charset-normalizer, multidict, yarl, async-timeout, aiohttp, xxhash, dill, multiprocess, huggingface-hub, fsspec, datasets\n",
            "  Attempting uninstall: tqdm\n",
            "    Found existing installation: tqdm 4.60.0\n",
            "    Uninstalling tqdm-4.60.0:\n",
            "      Successfully uninstalled tqdm-4.60.0\n",
            "  Attempting uninstall: huggingface-hub\n",
            "    Found existing installation: huggingface-hub 0.0.12\n",
            "    Uninstalling huggingface-hub-0.0.12:\n",
            "      Successfully uninstalled huggingface-hub-0.0.12\n",
            "Successfully installed aiohttp-3.8.1 aiosignal-1.2.0 async-timeout-4.0.1 charset-normalizer-2.0.7 datasets-1.15.1 dill-0.3.4 frozenlist-1.2.0 fsspec-2021.11.0 huggingface-hub-0.1.2 multidict-5.2.0 multiprocess-0.70.12.2 pyarrow-6.0.1 tqdm-4.62.3 xxhash-2.0.2 yarl-1.7.2\n",
            "Defaulting to user installation because normal site-packages is not writeable\n",
            "Requirement already satisfied: transformers in c:\\users\\egor\\appdata\\roaming\\python\\python39\\site-packages (4.9.0)\n",
            "Requirement already satisfied: requests in c:\\users\\egor\\appdata\\roaming\\python\\python39\\site-packages (from transformers) (2.25.1)\n",
            "Requirement already satisfied: regex!=2019.12.17 in c:\\users\\egor\\appdata\\roaming\\python\\python39\\site-packages (from transformers) (2021.7.6)\n",
            "Requirement already satisfied: filelock in c:\\users\\egor\\appdata\\roaming\\python\\python39\\site-packages (from transformers) (3.0.12)\n",
            "Requirement already satisfied: tokenizers<0.11,>=0.10.1 in c:\\users\\egor\\appdata\\roaming\\python\\python39\\site-packages (from transformers) (0.10.3)\n",
            "Collecting huggingface-hub==0.0.12\n",
            "  Using cached huggingface_hub-0.0.12-py3-none-any.whl (37 kB)\n",
            "Requirement already satisfied: tqdm>=4.27 in c:\\users\\egor\\appdata\\roaming\\python\\python39\\site-packages (from transformers) (4.62.3)\n",
            "Requirement already satisfied: packaging in c:\\users\\egor\\appdata\\roaming\\python\\python39\\site-packages (from transformers) (20.9)\n",
            "Requirement already satisfied: pyyaml>=5.1 in c:\\users\\egor\\appdata\\roaming\\python\\python39\\site-packages (from transformers) (5.4.1)\n",
            "Requirement already satisfied: numpy>=1.17 in c:\\users\\egor\\appdata\\roaming\\python\\python39\\site-packages (from transformers) (1.20.2)\n",
            "Requirement already satisfied: sacremoses in c:\\users\\egor\\appdata\\roaming\\python\\python39\\site-packages (from transformers) (0.0.45)\n",
            "Requirement already satisfied: idna<3,>=2.5 in c:\\users\\egor\\appdata\\roaming\\python\\python39\\site-packages (from requests->transformers) (2.10)\n",
            "Requirement already satisfied: urllib3<1.27,>=1.21.1 in c:\\users\\egor\\appdata\\roaming\\python\\python39\\site-packages (from requests->transformers) (1.26.4)\n",
            "Requirement already satisfied: certifi>=2017.4.17 in c:\\users\\egor\\appdata\\roaming\\python\\python39\\site-packages (from requests->transformers) (2020.12.5)\n",
            "Requirement already satisfied: chardet<5,>=3.0.2 in c:\\users\\egor\\appdata\\roaming\\python\\python39\\site-packages (from requests->transformers) (4.0.0)\n",
            "Requirement already satisfied: typing-extensions in c:\\users\\egor\\appdata\\roaming\\python\\python39\\site-packages (from huggingface-hub==0.0.12->transformers) (3.7.4.3)\n",
            "Requirement already satisfied: colorama; platform_system == \"Windows\" in c:\\users\\egor\\appdata\\roaming\\python\\python39\\site-packages (from tqdm>=4.27->transformers) (0.4.4)\n",
            "Requirement already satisfied: pyparsing>=2.0.2 in c:\\users\\egor\\appdata\\roaming\\python\\python39\\site-packages (from packaging->transformers) (2.4.7)\n",
            "Requirement already satisfied: joblib in c:\\users\\egor\\appdata\\roaming\\python\\python39\\site-packages (from sacremoses->transformers) (1.0.1)\n",
            "Requirement already satisfied: six in c:\\users\\egor\\appdata\\roaming\\python\\python39\\site-packages (from sacremoses->transformers) (1.15.0)\n",
            "Requirement already satisfied: click in c:\\users\\egor\\appdata\\roaming\\python\\python39\\site-packages (from sacremoses->transformers) (8.0.1)\n",
            "Installing collected packages: huggingface-hub\n",
            "  Attempting uninstall: huggingface-hub\n",
            "    Found existing installation: huggingface-hub 0.1.2\n",
            "    Uninstalling huggingface-hub-0.1.2:\n",
            "      Successfully uninstalled huggingface-hub-0.1.2\n",
            "Successfully installed huggingface-hub-0.0.12\n",
            "ERROR: After October 2020 you may experience errors when installing or updating packages. This is because pip will change the way that it resolves dependency conflicts.\n",
            "\n",
            "We recommend you use --use-feature=2020-resolver to test your packages with the new resolver before it becomes the default.\n",
            "\n",
            "datasets 1.15.1 requires huggingface-hub<1.0.0,>=0.1.0, but you'll have huggingface-hub 0.0.12 which is incompatible.\n",
            "WARNING: You are using pip version 20.2.3; however, version 21.3.1 is available.\n",
            "You should consider upgrading via the 'f:\\python3.9\\python.exe -m pip install --upgrade pip' command.\n"
          ]
        }
      ],
      "source": [
        "!pip install datasets\n",
        "!pip install transformers"
      ]
    },
    {
      "cell_type": "code",
      "execution_count": 34,
      "metadata": {
        "id": "xu813_m53mxA",
        "tags": []
      },
      "outputs": [
        {
          "name": "stderr",
          "output_type": "stream",
          "text": [
            "Downloading: 100%|██████████| 341/341 [00:00<00:00, 114kB/s]\n",
            "Downloading: 100%|██████████| 632/632 [00:00<00:00, 158kB/s]\n",
            "Downloading: 100%|██████████| 241k/241k [00:00<00:00, 286kB/s]\n",
            "Downloading: 100%|██████████| 468k/468k [00:01<00:00, 322kB/s]\n",
            "Downloading: 100%|██████████| 112/112 [00:00<00:00, 37.5kB/s]\n"
          ]
        },
        {
          "ename": "NameError",
          "evalue": "name 'label2id' is not defined",
          "output_type": "error",
          "traceback": [
            "\u001b[1;31m---------------------------------------------------------------------------\u001b[0m",
            "\u001b[1;31mNameError\u001b[0m                                 Traceback (most recent call last)",
            "\u001b[1;32m<ipython-input-34-291fd9f1f3e8>\u001b[0m in \u001b[0;36m<module>\u001b[1;34m\u001b[0m\n\u001b[0;32m      8\u001b[0m \u001b[1;32mfor\u001b[0m \u001b[0mi\u001b[0m \u001b[1;32min\u001b[0m \u001b[0mrange\u001b[0m\u001b[1;33m(\u001b[0m\u001b[0mN_MODELS\u001b[0m\u001b[1;33m)\u001b[0m\u001b[1;33m:\u001b[0m\u001b[1;33m\u001b[0m\u001b[1;33m\u001b[0m\u001b[0m\n\u001b[0;32m      9\u001b[0m     \u001b[0mtokenizers\u001b[0m\u001b[1;33m.\u001b[0m\u001b[0mappend\u001b[0m\u001b[1;33m(\u001b[0m\u001b[0mAutoTokenizer\u001b[0m\u001b[1;33m.\u001b[0m\u001b[0mfrom_pretrained\u001b[0m\u001b[1;33m(\u001b[0m\u001b[0mMODEL_NAME\u001b[0m\u001b[1;33m)\u001b[0m\u001b[1;33m)\u001b[0m\u001b[1;33m\u001b[0m\u001b[1;33m\u001b[0m\u001b[0m\n\u001b[1;32m---> 10\u001b[1;33m     \u001b[0mmodels\u001b[0m\u001b[1;33m.\u001b[0m\u001b[0mappend\u001b[0m\u001b[1;33m(\u001b[0m\u001b[0mAutoModelForSequenceClassification\u001b[0m\u001b[1;33m.\u001b[0m\u001b[0mfrom_pretrained\u001b[0m\u001b[1;33m(\u001b[0m\u001b[0mMODEL_NAME\u001b[0m\u001b[1;33m,\u001b[0m\u001b[0mlabel2id\u001b[0m\u001b[1;33m=\u001b[0m\u001b[0mlabel2id\u001b[0m\u001b[1;33m,\u001b[0m\u001b[0mid2label\u001b[0m\u001b[1;33m=\u001b[0m\u001b[0mid2label\u001b[0m\u001b[1;33m,\u001b[0m\u001b[0mnum_labels\u001b[0m \u001b[1;33m=\u001b[0m\u001b[0mNUM_LABELS\u001b[0m\u001b[1;33m)\u001b[0m\u001b[1;33m)\u001b[0m\u001b[1;33m\u001b[0m\u001b[1;33m\u001b[0m\u001b[0m\n\u001b[0m\u001b[0;32m     11\u001b[0m \u001b[1;33m\u001b[0m\u001b[0m\n\u001b[0;32m     12\u001b[0m \u001b[1;31m#####\u001b[0m\u001b[1;33m\u001b[0m\u001b[1;33m\u001b[0m\u001b[1;33m\u001b[0m\u001b[0m\n",
            "\u001b[1;31mNameError\u001b[0m: name 'label2id' is not defined"
          ]
        }
      ],
      "source": [
        "from transformers import AutoTokenizer,AutoModelForSequenceClassification\n",
        "#MODEL_NAME = 'DeepPavlov/rubert-base-cased-sentence'\n",
        "MODEL_NAME = 'cointegrated/rubert-tiny'\n",
        "#MODEL_NAME = '/content/drive/MyDrive/fsa_hack/model'\n",
        "N_MODELS = 1\n",
        "tokenizers = []\n",
        "models = []\n",
        "for i in range(N_MODELS):\n",
        "    tokenizers.append(AutoTokenizer.from_pretrained(MODEL_NAME))\n",
        "    models.append(AutoModelForSequenceClassification.from_pretrained(MODEL_NAME,label2id=label2id,id2label=id2label,num_labels =NUM_LABELS))\n",
        "\n",
        "#####\n",
        "# tokenizer = AutoTokenizer.from_pretrained(MODEL_NAME)"
      ]
    },
    {
      "cell_type": "code",
      "execution_count": 142,
      "metadata": {
        "id": "ezAghigj4R9T"
      },
      "outputs": [],
      "source": [
        "import datasets as d \n",
        "from datasets import load_dataset\n",
        "\n",
        "train_dataset = d.Dataset.from_pandas(train[['text', 'category']])\n",
        "train_dataset = train_dataset.remove_columns(\"__index_level_0__\")\n",
        "test_dataset = d.Dataset.from_pandas(test[['text', 'category']])\n",
        "test_dataset = test_dataset.remove_columns(\"__index_level_0__\")"
      ]
    },
    {
      "cell_type": "code",
      "execution_count": 143,
      "metadata": {
        "id": "vKANTnEI4SBK"
      },
      "outputs": [],
      "source": [
        "dataset = d.DatasetDict({\"train\":train_dataset,\"test\":test_dataset})"
      ]
    },
    {
      "cell_type": "code",
      "execution_count": 144,
      "metadata": {
        "colab": {
          "base_uri": "https://localhost:8080/"
        },
        "id": "YILTz6lD4SEU",
        "outputId": "95cd78f2-3938-47a9-88ea-d2a22236fffd"
      },
      "outputs": [
        {
          "name": "stderr",
          "output_type": "stream",
          "text": [
            "loading configuration file https://huggingface.co/cointegrated/rubert-tiny/resolve/main/config.json from cache at /root/.cache/huggingface/transformers/d9b64e1a24a590ee04161821000abd8b25f6d111e31c013f8016ae9403385b31.fb42ff637f72882f9aa6f1883cdb8ee9e6ba319eadc2daed4f887496cce58ec6\n",
            "Model config BertConfig {\n",
            "  \"_name_or_path\": \"cointegrated/rubert-tiny\",\n",
            "  \"architectures\": [\n",
            "    \"BertForPreTraining\"\n",
            "  ],\n",
            "  \"attention_probs_dropout_prob\": 0.1,\n",
            "  \"classifier_dropout\": null,\n",
            "  \"emb_size\": 312,\n",
            "  \"gradient_checkpointing\": false,\n",
            "  \"hidden_act\": \"gelu\",\n",
            "  \"hidden_dropout_prob\": 0.1,\n",
            "  \"hidden_size\": 312,\n",
            "  \"initializer_range\": 0.02,\n",
            "  \"intermediate_size\": 600,\n",
            "  \"layer_norm_eps\": 1e-12,\n",
            "  \"max_position_embeddings\": 512,\n",
            "  \"model_type\": \"bert\",\n",
            "  \"num_attention_heads\": 12,\n",
            "  \"num_hidden_layers\": 3,\n",
            "  \"pad_token_id\": 0,\n",
            "  \"position_embedding_type\": \"absolute\",\n",
            "  \"transformers_version\": \"4.12.5\",\n",
            "  \"type_vocab_size\": 2,\n",
            "  \"use_cache\": true,\n",
            "  \"vocab_size\": 29564\n",
            "}\n",
            "\n",
            "loading file https://huggingface.co/cointegrated/rubert-tiny/resolve/main/vocab.txt from cache at /root/.cache/huggingface/transformers/3fed67599ef8853982f9c746f1783fd75ee0e95a64dfb29ed57865001438c7ed.77a9cd5f52c58bd231a1d3bc7390917dc6d0fadc0f17cee179994e8dfe382aba\n",
            "loading file https://huggingface.co/cointegrated/rubert-tiny/resolve/main/tokenizer.json from cache at /root/.cache/huggingface/transformers/93d19392b8bd4b67bac7f021ae9a66566e2d9fce258a91eff120750506446f41.a5902d04b644b38f072d27ead4d54ae75995f94fa8752f130da31b8acf145bc0\n",
            "loading file https://huggingface.co/cointegrated/rubert-tiny/resolve/main/added_tokens.json from cache at None\n",
            "loading file https://huggingface.co/cointegrated/rubert-tiny/resolve/main/special_tokens_map.json from cache at /root/.cache/huggingface/transformers/11065a2b44d83dc39a7b738b75d18d462970e31000f2562f21ee587eca67a88b.dd8bd9bfd3664b530ea4e645105f557769387b3da9f79bdb55ed556bdd80611d\n",
            "loading file https://huggingface.co/cointegrated/rubert-tiny/resolve/main/tokenizer_config.json from cache at /root/.cache/huggingface/transformers/94137cff5a9cb3618ba6fccc7d68bb96d9d2d967d38189bd477843664cb37c65.fe75a54220b67b5c6b8a8ff559b6a8d9e8dc294a08351bab039fb65e3af43319\n",
            "loading configuration file https://huggingface.co/cointegrated/rubert-tiny/resolve/main/config.json from cache at /root/.cache/huggingface/transformers/d9b64e1a24a590ee04161821000abd8b25f6d111e31c013f8016ae9403385b31.fb42ff637f72882f9aa6f1883cdb8ee9e6ba319eadc2daed4f887496cce58ec6\n",
            "Model config BertConfig {\n",
            "  \"_name_or_path\": \"cointegrated/rubert-tiny\",\n",
            "  \"architectures\": [\n",
            "    \"BertForPreTraining\"\n",
            "  ],\n",
            "  \"attention_probs_dropout_prob\": 0.1,\n",
            "  \"classifier_dropout\": null,\n",
            "  \"emb_size\": 312,\n",
            "  \"gradient_checkpointing\": false,\n",
            "  \"hidden_act\": \"gelu\",\n",
            "  \"hidden_dropout_prob\": 0.1,\n",
            "  \"hidden_size\": 312,\n",
            "  \"initializer_range\": 0.02,\n",
            "  \"intermediate_size\": 600,\n",
            "  \"layer_norm_eps\": 1e-12,\n",
            "  \"max_position_embeddings\": 512,\n",
            "  \"model_type\": \"bert\",\n",
            "  \"num_attention_heads\": 12,\n",
            "  \"num_hidden_layers\": 3,\n",
            "  \"pad_token_id\": 0,\n",
            "  \"position_embedding_type\": \"absolute\",\n",
            "  \"transformers_version\": \"4.12.5\",\n",
            "  \"type_vocab_size\": 2,\n",
            "  \"use_cache\": true,\n",
            "  \"vocab_size\": 29564\n",
            "}\n",
            "\n"
          ]
        }
      ],
      "source": [
        "tokenizer = AutoTokenizer.from_pretrained(MODEL_NAME)\n",
        "\n",
        "def tokenize(batch):\n",
        "    tokenized_batch = tokenizer(batch['text'], padding=True, truncation=True)\n",
        "    tokenized_batch[\"label\"] = [label2id[label] for label in batch[\"category\"]]\n",
        "    return tokenized_batch"
      ]
    },
    {
      "cell_type": "code",
      "execution_count": 145,
      "metadata": {
        "colab": {
          "base_uri": "https://localhost:8080/",
          "height": 81,
          "referenced_widgets": [
            "00b201c86c764f358463cc27ae82aca1",
            "f9c234a8abae4778a9364086f992b587",
            "27549e71db5b4d01a95071ec23c364ac",
            "ecacf575a10543f7abfe4502c9a9b5b2",
            "97647b7ca0164c75b1e158ef6c39b295",
            "ea2146b390804b4e8976150ecb4ad575",
            "a294a01f455449d8a7f2b28575306c13",
            "55008f0ecaa74a3cb6b9f8eb68491367",
            "1d1256e64acf40aaa8362a14a8060a76",
            "3f8f4301d9c54508a27cff2485f9e2ab",
            "209c3172f3964abe8d766a9b1f6fc411",
            "ee9ef28a75234f618e75a9d169fc309c",
            "7b70e74cc42a484783c9c000cdf2275d",
            "98c237d827c548538f391c82a91f9eb9",
            "c024f891ff3149aba3ad95235217923f",
            "87ca5b8f1e0d4225a840cf35b2b94ef2",
            "81b63b44012442839b1d6b433c40b252",
            "cd82b601ee6245fc84f679b828bc6573",
            "a91377fd19094b959ff6c6022a18f56c",
            "d816a5505d924c36af46091f884d363b",
            "6b1e00ed5f07417b8da2a0b54a28371c",
            "360b04033b5f46d2b87656e688ec8e08"
          ]
        },
        "id": "SZHj4sgY4SHy",
        "outputId": "04a48988-6042-4dca-cea9-9d4dc794bf0c"
      },
      "outputs": [
        {
          "data": {
            "application/vnd.jupyter.widget-view+json": {
              "model_id": "00b201c86c764f358463cc27ae82aca1",
              "version_major": 2,
              "version_minor": 0
            },
            "text/plain": [
              "  0%|          | 0/188 [00:00<?, ?ba/s]"
            ]
          },
          "metadata": {},
          "output_type": "display_data"
        },
        {
          "data": {
            "application/vnd.jupyter.widget-view+json": {
              "model_id": "ee9ef28a75234f618e75a9d169fc309c",
              "version_major": 2,
              "version_minor": 0
            },
            "text/plain": [
              "  0%|          | 0/81 [00:00<?, ?ba/s]"
            ]
          },
          "metadata": {},
          "output_type": "display_data"
        }
      ],
      "source": [
        "# encoded_datasets = []\n",
        "# for tokenizer in tokenizers:\n",
        "#     encoded_datasets.append(dataset.map(tokenize, batched=True))\n",
        "\n",
        "encoded_dataset = dataset.map(tokenize, batched=True)"
      ]
    },
    {
      "cell_type": "code",
      "execution_count": 146,
      "metadata": {
        "colab": {
          "base_uri": "https://localhost:8080/"
        },
        "id": "Xd7QCKXuLJx9",
        "outputId": "3f97dde6-b09c-4ddd-d3e7-2dce6253b36c"
      },
      "outputs": [
        {
          "data": {
            "text/plain": [
              "DatasetDict({\n",
              "    train: Dataset({\n",
              "        features: ['attention_mask', 'category', 'input_ids', 'label', 'text', 'token_type_ids'],\n",
              "        num_rows: 187378\n",
              "    })\n",
              "    test: Dataset({\n",
              "        features: ['attention_mask', 'category', 'input_ids', 'label', 'text', 'token_type_ids'],\n",
              "        num_rows: 80306\n",
              "    })\n",
              "})"
            ]
          },
          "execution_count": 146,
          "metadata": {},
          "output_type": "execute_result"
        }
      ],
      "source": [
        "encoded_dataset"
      ]
    },
    {
      "cell_type": "code",
      "execution_count": 147,
      "metadata": {
        "id": "NqbxKBtJLB5g"
      },
      "outputs": [],
      "source": [
        "small_train_dataset = encoded_dataset[\"train\"].shuffle(seed=228).select(range(18737)) \n",
        "small_eval_dataset = encoded_dataset[\"test\"].shuffle(seed=228).select(range(8030)) \n",
        "# full_train_dataset = encoded_datasets[\"train\"]\n",
        "# full_eval_dataset = encoded_datasets[\"test\"]"
      ]
    },
    {
      "cell_type": "code",
      "execution_count": 148,
      "metadata": {
        "id": "O5rBZ0iB3mzU"
      },
      "outputs": [],
      "source": [
        "from transformers import TrainingArguments, Trainer\n",
        "from datasets import load_metric"
      ]
    },
    {
      "cell_type": "code",
      "execution_count": 149,
      "metadata": {
        "id": "dwIjkvHq3m1S"
      },
      "outputs": [],
      "source": [
        "def compute_metrics(eval_pred):\n",
        "    predictions, labels = eval_pred\n",
        "    predictions = np.argmax(predictions, axis=1)\n",
        "    return metric.compute(predictions=predictions, references=labels)\n",
        "\n",
        "metric = d.load_metric('accuracy') #, 'precision', 'recall') #'glue','mnli', 'accuracy')"
      ]
    },
    {
      "cell_type": "code",
      "execution_count": 158,
      "metadata": {
        "colab": {
          "base_uri": "https://localhost:8080/",
          "height": 1000
        },
        "id": "K8pQ_j1zMoJY",
        "outputId": "69f2c39c-a500-4d66-d6fc-590dc62199f8"
      },
      "outputs": [
        {
          "name": "stderr",
          "output_type": "stream",
          "text": [
            "loading configuration file https://huggingface.co/cointegrated/rubert-tiny/resolve/main/config.json from cache at /root/.cache/huggingface/transformers/d9b64e1a24a590ee04161821000abd8b25f6d111e31c013f8016ae9403385b31.fb42ff637f72882f9aa6f1883cdb8ee9e6ba319eadc2daed4f887496cce58ec6\n",
            "Model config BertConfig {\n",
            "  \"_name_or_path\": \"cointegrated/rubert-tiny\",\n",
            "  \"architectures\": [\n",
            "    \"BertForPreTraining\"\n",
            "  ],\n",
            "  \"attention_probs_dropout_prob\": 0.1,\n",
            "  \"classifier_dropout\": null,\n",
            "  \"emb_size\": 312,\n",
            "  \"gradient_checkpointing\": false,\n",
            "  \"hidden_act\": \"gelu\",\n",
            "  \"hidden_dropout_prob\": 0.1,\n",
            "  \"hidden_size\": 312,\n",
            "  \"id2label\": {\n",
            "    \"0\": \"3540\",\n",
            "    \"1\": \"8464\",\n",
            "    \"2\": \"9436\",\n",
            "    \"3\": \"9437\",\n",
            "    \"4\": \"9391\",\n",
            "    \"5\": \"3414\",\n",
            "    \"6\": \"2526\",\n",
            "    \"7\": \"5361\",\n",
            "    \"8\": \"9750\",\n",
            "    \"9\": \"1996\",\n",
            "    \"10\": \"8460\",\n",
            "    \"11\": \"9295\",\n",
            "    \"12\": \"3185\",\n",
            "    \"13\": \"3416\",\n",
            "    \"14\": \"2321\",\n",
            "    \"15\": \"5500\",\n",
            "    \"16\": \"2381\",\n",
            "    \"17\": \"3451\",\n",
            "    \"18\": \"2293\",\n",
            "    \"19\": \"9461\",\n",
            "    \"20\": \"5772\",\n",
            "    \"21\": \"1481\",\n",
            "    \"22\": \"5157\",\n",
            "    \"23\": \"5331\",\n",
            "    \"24\": \"5982\",\n",
            "    \"25\": \"2553\",\n",
            "    \"26\": \"3483\",\n",
            "    \"27\": \"3181\",\n",
            "    \"28\": \"9393\",\n",
            "    \"29\": \"9480\",\n",
            "    \"30\": \"9146\",\n",
            "    \"31\": \"9180\",\n",
            "    \"32\": \"1991\",\n",
            "    \"33\": \"2364\",\n",
            "    \"34\": \"9439\",\n",
            "    \"35\": \"9350\",\n",
            "    \"36\": \"9433\",\n",
            "    \"37\": \"9434\",\n",
            "    \"38\": \"9381\",\n",
            "    \"39\": \"2571\",\n",
            "    \"40\": \"9683\",\n",
            "    \"41\": \"5711\",\n",
            "    \"42\": \"2420\",\n",
            "    \"43\": \"9386\",\n",
            "    \"44\": \"5530\",\n",
            "    \"45\": \"2514\",\n",
            "    \"46\": \"9432\",\n",
            "    \"47\": \"8311\",\n",
            "    \"48\": \"9451\",\n",
            "    \"49\": \"2545\",\n",
            "    \"50\": \"9291\",\n",
            "    \"51\": \"2557\",\n",
            "    \"52\": \"2440\",\n",
            "    \"53\": \"2431\",\n",
            "    \"54\": \"5481\",\n",
            "    \"55\": \"5620\",\n",
            "    \"56\": \"7272\",\n",
            "    \"57\": \"9464\",\n",
            "    \"58\": \"9396\",\n",
            "    \"59\": \"5970\",\n",
            "    \"60\": \"9389\",\n",
            "    \"61\": \"110\",\n",
            "    \"62\": \"3530\",\n",
            "    \"63\": \"5913\",\n",
            "    \"64\": \"9697\",\n",
            "    \"65\": \"5445\",\n",
            "    \"66\": \"2530\",\n",
            "    \"67\": \"2567\",\n",
            "    \"68\": \"2221\",\n",
            "    \"69\": \"1482\",\n",
            "    \"70\": \"9444\",\n",
            "    \"71\": \"3411\",\n",
            "    \"72\": \"9296\",\n",
            "    \"73\": \"8461\",\n",
            "    \"74\": \"3355\",\n",
            "    \"75\": \"9168\",\n",
            "    \"76\": \"5990\",\n",
            "    \"77\": \"9158\",\n",
            "    \"78\": \"9692\",\n",
            "    \"79\": \"9385\",\n",
            "    \"80\": \"5463\",\n",
            "    \"81\": \"2386\",\n",
            "    \"82\": \"9397\",\n",
            "    \"83\": \"3481\",\n",
            "    \"84\": \"2372\",\n",
            "    \"85\": \"9300\",\n",
            "    \"86\": \"2180\",\n",
            "    \"87\": \"9219\",\n",
            "    \"88\": \"3482\",\n",
            "    \"89\": \"9431\",\n",
            "    \"90\": \"3412\",\n",
            "    \"91\": \"9388\",\n",
            "    \"92\": \"9616\",\n",
            "    \"93\": \"964\",\n",
            "    \"94\": \"5460\",\n",
            "    \"95\": \"1483\",\n",
            "    \"96\": \"2331\",\n",
            "    \"97\": \"9387\",\n",
            "    \"98\": \"3183\",\n",
            "    \"99\": \"9450\",\n",
            "    \"100\": \"2387\",\n",
            "    \"101\": \"9441\",\n",
            "    \"102\": \"3456\",\n",
            "    \"103\": \"9695\",\n",
            "    \"104\": \"5743\",\n",
            "    \"105\": \"3184\",\n",
            "    \"106\": \"9290\",\n",
            "    \"107\": \"9438\",\n",
            "    \"108\": \"8158\",\n",
            "    \"109\": \"9398\",\n",
            "    \"110\": \"253\",\n",
            "    \"111\": \"8195\",\n",
            "    \"112\": \"9442\",\n",
            "    \"113\": \"9392\",\n",
            "    \"114\": \"9435\",\n",
            "    \"115\": \"2388\",\n",
            "    \"116\": \"5341\",\n",
            "    \"117\": \"272\",\n",
            "    \"118\": \"3454\",\n",
            "    \"119\": \"2380\",\n",
            "    \"120\": \"9382\",\n",
            "    \"121\": \"5270\",\n",
            "    \"122\": \"9677\",\n",
            "    \"123\": \"2322\",\n",
            "    \"124\": \"6582\",\n",
            "    \"125\": \"9112\",\n",
            "    \"126\": \"2182\",\n",
            "    \"127\": \"9280\",\n",
            "    \"128\": \"3457\"\n",
            "  },\n",
            "  \"initializer_range\": 0.02,\n",
            "  \"intermediate_size\": 600,\n",
            "  \"label2id\": {\n",
            "    \"110\": 61,\n",
            "    \"1481\": 21,\n",
            "    \"1482\": 69,\n",
            "    \"1483\": 95,\n",
            "    \"1991\": 32,\n",
            "    \"1996\": 9,\n",
            "    \"2180\": 86,\n",
            "    \"2182\": 126,\n",
            "    \"2221\": 68,\n",
            "    \"2293\": 18,\n",
            "    \"2321\": 14,\n",
            "    \"2322\": 123,\n",
            "    \"2331\": 96,\n",
            "    \"2364\": 33,\n",
            "    \"2372\": 84,\n",
            "    \"2380\": 119,\n",
            "    \"2381\": 16,\n",
            "    \"2386\": 81,\n",
            "    \"2387\": 100,\n",
            "    \"2388\": 115,\n",
            "    \"2420\": 42,\n",
            "    \"2431\": 53,\n",
            "    \"2440\": 52,\n",
            "    \"2514\": 45,\n",
            "    \"2526\": 6,\n",
            "    \"253\": 110,\n",
            "    \"2530\": 66,\n",
            "    \"2545\": 49,\n",
            "    \"2553\": 25,\n",
            "    \"2557\": 51,\n",
            "    \"2567\": 67,\n",
            "    \"2571\": 39,\n",
            "    \"272\": 117,\n",
            "    \"3181\": 27,\n",
            "    \"3183\": 98,\n",
            "    \"3184\": 105,\n",
            "    \"3185\": 12,\n",
            "    \"3355\": 74,\n",
            "    \"3411\": 71,\n",
            "    \"3412\": 90,\n",
            "    \"3414\": 5,\n",
            "    \"3416\": 13,\n",
            "    \"3451\": 17,\n",
            "    \"3454\": 118,\n",
            "    \"3456\": 102,\n",
            "    \"3457\": 128,\n",
            "    \"3481\": 83,\n",
            "    \"3482\": 88,\n",
            "    \"3483\": 26,\n",
            "    \"3530\": 62,\n",
            "    \"3540\": 0,\n",
            "    \"5157\": 22,\n",
            "    \"5270\": 121,\n",
            "    \"5331\": 23,\n",
            "    \"5341\": 116,\n",
            "    \"5361\": 7,\n",
            "    \"5445\": 65,\n",
            "    \"5460\": 94,\n",
            "    \"5463\": 80,\n",
            "    \"5481\": 54,\n",
            "    \"5500\": 15,\n",
            "    \"5530\": 44,\n",
            "    \"5620\": 55,\n",
            "    \"5711\": 41,\n",
            "    \"5743\": 104,\n",
            "    \"5772\": 20,\n",
            "    \"5913\": 63,\n",
            "    \"5970\": 59,\n",
            "    \"5982\": 24,\n",
            "    \"5990\": 76,\n",
            "    \"6582\": 124,\n",
            "    \"7272\": 56,\n",
            "    \"8158\": 108,\n",
            "    \"8195\": 111,\n",
            "    \"8311\": 47,\n",
            "    \"8460\": 10,\n",
            "    \"8461\": 73,\n",
            "    \"8464\": 1,\n",
            "    \"9112\": 125,\n",
            "    \"9146\": 30,\n",
            "    \"9158\": 77,\n",
            "    \"9168\": 75,\n",
            "    \"9180\": 31,\n",
            "    \"9219\": 87,\n",
            "    \"9280\": 127,\n",
            "    \"9290\": 106,\n",
            "    \"9291\": 50,\n",
            "    \"9295\": 11,\n",
            "    \"9296\": 72,\n",
            "    \"9300\": 85,\n",
            "    \"9350\": 35,\n",
            "    \"9381\": 38,\n",
            "    \"9382\": 120,\n",
            "    \"9385\": 79,\n",
            "    \"9386\": 43,\n",
            "    \"9387\": 97,\n",
            "    \"9388\": 91,\n",
            "    \"9389\": 60,\n",
            "    \"9391\": 4,\n",
            "    \"9392\": 113,\n",
            "    \"9393\": 28,\n",
            "    \"9396\": 58,\n",
            "    \"9397\": 82,\n",
            "    \"9398\": 109,\n",
            "    \"9431\": 89,\n",
            "    \"9432\": 46,\n",
            "    \"9433\": 36,\n",
            "    \"9434\": 37,\n",
            "    \"9435\": 114,\n",
            "    \"9436\": 2,\n",
            "    \"9437\": 3,\n",
            "    \"9438\": 107,\n",
            "    \"9439\": 34,\n",
            "    \"9441\": 101,\n",
            "    \"9442\": 112,\n",
            "    \"9444\": 70,\n",
            "    \"9450\": 99,\n",
            "    \"9451\": 48,\n",
            "    \"9461\": 19,\n",
            "    \"9464\": 57,\n",
            "    \"9480\": 29,\n",
            "    \"9616\": 92,\n",
            "    \"964\": 93,\n",
            "    \"9677\": 122,\n",
            "    \"9683\": 40,\n",
            "    \"9692\": 78,\n",
            "    \"9695\": 103,\n",
            "    \"9697\": 64,\n",
            "    \"9750\": 8\n",
            "  },\n",
            "  \"layer_norm_eps\": 1e-12,\n",
            "  \"max_position_embeddings\": 512,\n",
            "  \"model_type\": \"bert\",\n",
            "  \"num_attention_heads\": 12,\n",
            "  \"num_hidden_layers\": 3,\n",
            "  \"pad_token_id\": 0,\n",
            "  \"position_embedding_type\": \"absolute\",\n",
            "  \"transformers_version\": \"4.12.5\",\n",
            "  \"type_vocab_size\": 2,\n",
            "  \"use_cache\": true,\n",
            "  \"vocab_size\": 29564\n",
            "}\n",
            "\n",
            "loading weights file https://huggingface.co/cointegrated/rubert-tiny/resolve/main/pytorch_model.bin from cache at /root/.cache/huggingface/transformers/62fbf31907f1e662618a33e63ce0d1ebf865a3eca55ad01745fbcf4e42476ad2.e05ff47f2be10ad500dbf07d5cdc2db885f9908bdb1e9380231b6199c7ecb3e7\n",
            "Some weights of the model checkpoint at cointegrated/rubert-tiny were not used when initializing BertForSequenceClassification: ['cls.predictions.bias', 'cls.seq_relationship.bias', 'cls.seq_relationship.weight', 'cls.predictions.transform.dense.bias', 'cls.predictions.transform.dense.weight', 'cls.predictions.decoder.bias', 'cls.predictions.decoder.weight', 'cls.predictions.transform.LayerNorm.bias', 'cls.predictions.transform.LayerNorm.weight']\n",
            "- This IS expected if you are initializing BertForSequenceClassification from the checkpoint of a model trained on another task or with another architecture (e.g. initializing a BertForSequenceClassification model from a BertForPreTraining model).\n",
            "- This IS NOT expected if you are initializing BertForSequenceClassification from the checkpoint of a model that you expect to be exactly identical (initializing a BertForSequenceClassification model from a BertForSequenceClassification model).\n",
            "Some weights of BertForSequenceClassification were not initialized from the model checkpoint at cointegrated/rubert-tiny and are newly initialized: ['classifier.bias', 'classifier.weight']\n",
            "You should probably TRAIN this model on a down-stream task to be able to use it for predictions and inference.\n",
            "using `logging_steps` to initialize `eval_steps` to 500\n",
            "PyTorch: setting up devices\n",
            "The default value for the training argument `--report_to` will change in v5 (from all installed integrations to none). In v5, you will need to use `--report_to all` to get the same behavior as now. You should start updating your code and make this info disappear :-).\n",
            "The following columns in the training set  don't have a corresponding argument in `BertForSequenceClassification.forward` and have been ignored: category, text.\n",
            "***** Running training *****\n",
            "  Num examples = 18737\n",
            "  Num Epochs = 3\n",
            "  Instantaneous batch size per device = 16\n",
            "  Total train batch size (w. parallel, distributed & accumulation) = 16\n",
            "  Gradient Accumulation steps = 1\n",
            "  Total optimization steps = 3516\n"
          ]
        },
        {
          "data": {
            "text/html": [
              "\n",
              "    <div>\n",
              "      \n",
              "      <progress value='3516' max='3516' style='width:300px; height:20px; vertical-align: middle;'></progress>\n",
              "      [3516/3516 22:15, Epoch 3/3]\n",
              "    </div>\n",
              "    <table border=\"1\" class=\"dataframe\">\n",
              "  <thead>\n",
              "    <tr style=\"text-align: left;\">\n",
              "      <th>Step</th>\n",
              "      <th>Training Loss</th>\n",
              "      <th>Validation Loss</th>\n",
              "      <th>Accuracy</th>\n",
              "    </tr>\n",
              "  </thead>\n",
              "  <tbody>\n",
              "    <tr>\n",
              "      <td>500</td>\n",
              "      <td>2.665000</td>\n",
              "      <td>1.728558</td>\n",
              "      <td>0.634994</td>\n",
              "    </tr>\n",
              "    <tr>\n",
              "      <td>1000</td>\n",
              "      <td>1.537700</td>\n",
              "      <td>1.370373</td>\n",
              "      <td>0.723910</td>\n",
              "    </tr>\n",
              "    <tr>\n",
              "      <td>1500</td>\n",
              "      <td>1.343200</td>\n",
              "      <td>1.177301</td>\n",
              "      <td>0.751183</td>\n",
              "    </tr>\n",
              "    <tr>\n",
              "      <td>2000</td>\n",
              "      <td>1.138100</td>\n",
              "      <td>1.067318</td>\n",
              "      <td>0.766376</td>\n",
              "    </tr>\n",
              "    <tr>\n",
              "      <td>2500</td>\n",
              "      <td>1.040400</td>\n",
              "      <td>1.002544</td>\n",
              "      <td>0.790785</td>\n",
              "    </tr>\n",
              "    <tr>\n",
              "      <td>3000</td>\n",
              "      <td>1.013200</td>\n",
              "      <td>0.965751</td>\n",
              "      <td>0.803611</td>\n",
              "    </tr>\n",
              "    <tr>\n",
              "      <td>3500</td>\n",
              "      <td>0.993100</td>\n",
              "      <td>0.954505</td>\n",
              "      <td>0.806227</td>\n",
              "    </tr>\n",
              "  </tbody>\n",
              "</table><p>"
            ],
            "text/plain": [
              "<IPython.core.display.HTML object>"
            ]
          },
          "metadata": {},
          "output_type": "display_data"
        },
        {
          "name": "stderr",
          "output_type": "stream",
          "text": [
            "The following columns in the evaluation set  don't have a corresponding argument in `BertForSequenceClassification.forward` and have been ignored: category, text.\n",
            "***** Running Evaluation *****\n",
            "  Num examples = 8030\n",
            "  Batch size = 16\n",
            "Saving model checkpoint to /content/drive/MyDrive/fsa_hack/checkpoint-500\n",
            "Configuration saved in /content/drive/MyDrive/fsa_hack/checkpoint-500/config.json\n",
            "Model weights saved in /content/drive/MyDrive/fsa_hack/checkpoint-500/pytorch_model.bin\n",
            "tokenizer config file saved in /content/drive/MyDrive/fsa_hack/checkpoint-500/tokenizer_config.json\n",
            "Special tokens file saved in /content/drive/MyDrive/fsa_hack/checkpoint-500/special_tokens_map.json\n",
            "The following columns in the evaluation set  don't have a corresponding argument in `BertForSequenceClassification.forward` and have been ignored: category, text.\n",
            "***** Running Evaluation *****\n",
            "  Num examples = 8030\n",
            "  Batch size = 16\n",
            "Saving model checkpoint to /content/drive/MyDrive/fsa_hack/checkpoint-1000\n",
            "Configuration saved in /content/drive/MyDrive/fsa_hack/checkpoint-1000/config.json\n",
            "Model weights saved in /content/drive/MyDrive/fsa_hack/checkpoint-1000/pytorch_model.bin\n",
            "tokenizer config file saved in /content/drive/MyDrive/fsa_hack/checkpoint-1000/tokenizer_config.json\n",
            "Special tokens file saved in /content/drive/MyDrive/fsa_hack/checkpoint-1000/special_tokens_map.json\n",
            "The following columns in the evaluation set  don't have a corresponding argument in `BertForSequenceClassification.forward` and have been ignored: category, text.\n",
            "***** Running Evaluation *****\n",
            "  Num examples = 8030\n",
            "  Batch size = 16\n",
            "Saving model checkpoint to /content/drive/MyDrive/fsa_hack/checkpoint-1500\n",
            "Configuration saved in /content/drive/MyDrive/fsa_hack/checkpoint-1500/config.json\n",
            "Model weights saved in /content/drive/MyDrive/fsa_hack/checkpoint-1500/pytorch_model.bin\n",
            "tokenizer config file saved in /content/drive/MyDrive/fsa_hack/checkpoint-1500/tokenizer_config.json\n",
            "Special tokens file saved in /content/drive/MyDrive/fsa_hack/checkpoint-1500/special_tokens_map.json\n",
            "The following columns in the evaluation set  don't have a corresponding argument in `BertForSequenceClassification.forward` and have been ignored: category, text.\n",
            "***** Running Evaluation *****\n",
            "  Num examples = 8030\n",
            "  Batch size = 16\n",
            "Saving model checkpoint to /content/drive/MyDrive/fsa_hack/checkpoint-2000\n",
            "Configuration saved in /content/drive/MyDrive/fsa_hack/checkpoint-2000/config.json\n",
            "Model weights saved in /content/drive/MyDrive/fsa_hack/checkpoint-2000/pytorch_model.bin\n",
            "tokenizer config file saved in /content/drive/MyDrive/fsa_hack/checkpoint-2000/tokenizer_config.json\n",
            "Special tokens file saved in /content/drive/MyDrive/fsa_hack/checkpoint-2000/special_tokens_map.json\n",
            "The following columns in the evaluation set  don't have a corresponding argument in `BertForSequenceClassification.forward` and have been ignored: category, text.\n",
            "***** Running Evaluation *****\n",
            "  Num examples = 8030\n",
            "  Batch size = 16\n",
            "Saving model checkpoint to /content/drive/MyDrive/fsa_hack/checkpoint-2500\n",
            "Configuration saved in /content/drive/MyDrive/fsa_hack/checkpoint-2500/config.json\n",
            "Model weights saved in /content/drive/MyDrive/fsa_hack/checkpoint-2500/pytorch_model.bin\n",
            "tokenizer config file saved in /content/drive/MyDrive/fsa_hack/checkpoint-2500/tokenizer_config.json\n",
            "Special tokens file saved in /content/drive/MyDrive/fsa_hack/checkpoint-2500/special_tokens_map.json\n",
            "The following columns in the evaluation set  don't have a corresponding argument in `BertForSequenceClassification.forward` and have been ignored: category, text.\n",
            "***** Running Evaluation *****\n",
            "  Num examples = 8030\n",
            "  Batch size = 16\n",
            "Saving model checkpoint to /content/drive/MyDrive/fsa_hack/checkpoint-3000\n",
            "Configuration saved in /content/drive/MyDrive/fsa_hack/checkpoint-3000/config.json\n",
            "Model weights saved in /content/drive/MyDrive/fsa_hack/checkpoint-3000/pytorch_model.bin\n",
            "tokenizer config file saved in /content/drive/MyDrive/fsa_hack/checkpoint-3000/tokenizer_config.json\n",
            "Special tokens file saved in /content/drive/MyDrive/fsa_hack/checkpoint-3000/special_tokens_map.json\n",
            "The following columns in the evaluation set  don't have a corresponding argument in `BertForSequenceClassification.forward` and have been ignored: category, text.\n",
            "***** Running Evaluation *****\n",
            "  Num examples = 8030\n",
            "  Batch size = 16\n",
            "Saving model checkpoint to /content/drive/MyDrive/fsa_hack/checkpoint-3500\n",
            "Configuration saved in /content/drive/MyDrive/fsa_hack/checkpoint-3500/config.json\n",
            "Model weights saved in /content/drive/MyDrive/fsa_hack/checkpoint-3500/pytorch_model.bin\n",
            "tokenizer config file saved in /content/drive/MyDrive/fsa_hack/checkpoint-3500/tokenizer_config.json\n",
            "Special tokens file saved in /content/drive/MyDrive/fsa_hack/checkpoint-3500/special_tokens_map.json\n",
            "\n",
            "\n",
            "Training completed. Do not forget to share your model on huggingface.co/models =)\n",
            "\n",
            "\n"
          ]
        },
        {
          "data": {
            "text/plain": [
              "TrainOutput(global_step=3516, training_loss=1.388546163582829, metrics={'train_runtime': 1336.258, 'train_samples_per_second': 42.066, 'train_steps_per_second': 2.631, 'total_flos': 421375758640128.0, 'train_loss': 1.388546163582829, 'epoch': 3.0})"
            ]
          },
          "execution_count": 158,
          "metadata": {},
          "output_type": "execute_result"
        }
      ],
      "source": [
        "model = AutoModelForSequenceClassification.from_pretrained(MODEL_NAME,label2id=label2id,id2label=id2label,num_labels =NUM_LABELS)\n",
        "\n",
        "args = TrainingArguments(\n",
        "      # \"test-glue\"\n",
        "      #\"test_trainer\",\n",
        "      output_dir = '/content/drive/MyDrive/fsa_hack',\n",
        "      evaluation_strategy = \"steps\",\n",
        "      learning_rate=2e-5, #2e-5\n",
        "      per_device_train_batch_size=16,\n",
        "      per_device_eval_batch_size=16,\n",
        "      num_train_epochs=3,\n",
        "      weight_decay=0.05,\n",
        "      # load_best_model_at_end=False,\n",
        "      report_to=None\n",
        "  )\n",
        "\n",
        "trainer = Trainer(\n",
        "      model,\n",
        "      args,\n",
        "      train_dataset=small_train_dataset,\n",
        "      eval_dataset=small_eval_dataset,\n",
        "      tokenizer=tokenizer,\n",
        "      compute_metrics=compute_metrics\n",
        "    )\n",
        "\n",
        "trainer.train()"
      ]
    },
    {
      "cell_type": "code",
      "execution_count": 159,
      "metadata": {
        "colab": {
          "base_uri": "https://localhost:8080/",
          "height": 454
        },
        "id": "y70cTYj7QFvO",
        "outputId": "5a9c2f80-665b-40a1-b73f-f8b2f7560863"
      },
      "outputs": [
        {
          "name": "stderr",
          "output_type": "stream",
          "text": [
            "The following columns in the test set  don't have a corresponding argument in `BertForSequenceClassification.forward` and have been ignored: category, text.\n",
            "***** Running Prediction *****\n",
            "  Num examples = 8030\n",
            "  Batch size = 16\n"
          ]
        },
        {
          "data": {
            "text/html": [
              "\n",
              "    <div>\n",
              "      \n",
              "      <progress value='502' max='502' style='width:300px; height:20px; vertical-align: middle;'></progress>\n",
              "      [502/502 00:52]\n",
              "    </div>\n",
              "    "
            ],
            "text/plain": [
              "<IPython.core.display.HTML object>"
            ]
          },
          "metadata": {},
          "output_type": "display_data"
        },
        {
          "data": {
            "text/plain": [
              "{5,\n",
              " 16,\n",
              " 18,\n",
              " 20,\n",
              " 33,\n",
              " 44,\n",
              " 52,\n",
              " 59,\n",
              " 64,\n",
              " 68,\n",
              " 69,\n",
              " 70,\n",
              " 72,\n",
              " 85,\n",
              " 86,\n",
              " 88,\n",
              " 95,\n",
              " 99,\n",
              " 112,\n",
              " 113}"
            ]
          },
          "execution_count": 159,
          "metadata": {},
          "output_type": "execute_result"
        }
      ],
      "source": [
        "outputs = trainer.predict(small_eval_dataset)\n",
        "y_pred = outputs.predictions.argmax(1)\n",
        "set(y_pred)"
      ]
    },
    {
      "cell_type": "code",
      "execution_count": 160,
      "metadata": {
        "colab": {
          "base_uri": "https://localhost:8080/"
        },
        "id": "tegdCbuJGmFw",
        "outputId": "16e4fdb2-b4bb-47a8-8076-67c80d7dc501"
      },
      "outputs": [
        {
          "name": "stderr",
          "output_type": "stream",
          "text": [
            "Saving model checkpoint to /content/drive/MyDrive/fsa_hack/model3\n",
            "Configuration saved in /content/drive/MyDrive/fsa_hack/model3/config.json\n",
            "Model weights saved in /content/drive/MyDrive/fsa_hack/model3/pytorch_model.bin\n",
            "tokenizer config file saved in /content/drive/MyDrive/fsa_hack/model3/tokenizer_config.json\n",
            "Special tokens file saved in /content/drive/MyDrive/fsa_hack/model3/special_tokens_map.json\n"
          ]
        }
      ],
      "source": [
        "trainer.save_model('/content/drive/MyDrive/fsa_hack/model3')"
      ]
    },
    {
      "cell_type": "code",
      "execution_count": 161,
      "metadata": {
        "colab": {
          "base_uri": "https://localhost:8080/"
        },
        "id": "JVclmGEMZCgJ",
        "outputId": "6139b3c7-f398-45b3-e122-7a45885a0e70"
      },
      "outputs": [
        {
          "data": {
            "text/plain": [
              "PredictionOutput(predictions=array([[-2.9972844 , -2.5739799 , -1.1357272 , ..., -2.5247898 ,\n",
              "        -2.7487938 , -3.3960698 ],\n",
              "       [-2.9797466 , -2.5625896 , -1.1343943 , ..., -2.514269  ,\n",
              "        -2.7349036 , -3.374398  ],\n",
              "       [-2.9666543 , -2.5636785 , -1.1326365 , ..., -2.5064397 ,\n",
              "        -2.732606  , -3.359623  ],\n",
              "       ...,\n",
              "       [-2.9756734 , -2.55443   , -1.132986  , ..., -2.510294  ,\n",
              "        -2.7343645 , -3.3644693 ],\n",
              "       [-2.9867866 , -2.5641654 , -1.1297988 , ..., -2.5234094 ,\n",
              "        -2.7358358 , -3.397105  ],\n",
              "       [-1.5687824 , -0.70553887,  0.38767734, ..., -1.3934264 ,\n",
              "        -0.9943308 , -2.1924672 ]], dtype=float32), label_ids=array([85, 85, 85, ..., 85, 85, 70]), metrics={'test_loss': 0.9544879198074341, 'test_accuracy': 0.8062266500622665, 'test_runtime': 52.8522, 'test_samples_per_second': 151.933, 'test_steps_per_second': 9.498})"
            ]
          },
          "execution_count": 161,
          "metadata": {},
          "output_type": "execute_result"
        }
      ],
      "source": [
        "outputs"
      ]
    },
    {
      "cell_type": "code",
      "execution_count": null,
      "metadata": {
        "colab": {
          "base_uri": "https://localhost:8080/"
        },
        "id": "sK1w0bVOtKYv",
        "outputId": "5595141d-f677-4911-a990-73695f63bbae"
      },
      "outputs": [
        {
          "data": {
            "text/plain": [
              "Dataset({\n",
              "    features: ['attention_mask', 'category', 'input_ids', 'label', 'text', 'token_type_ids'],\n",
              "    num_rows: 8030\n",
              "})"
            ]
          },
          "execution_count": 47,
          "metadata": {},
          "output_type": "execute_result"
        }
      ],
      "source": [
        "small_eval_dataset"
      ]
    },
    {
      "cell_type": "code",
      "execution_count": null,
      "metadata": {
        "id": "PuyR_hO5-Tz5"
      },
      "outputs": [],
      "source": []
    },
    {
      "cell_type": "markdown",
      "metadata": {
        "id": "ytbV_qaWxBvu"
      },
      "source": [
        "# TODO:  \n",
        "- достать человекопонятные предсказания, причем не одно\n",
        "- сохранить модель\n",
        "- суметь скорить любой текст через сохраненную модель"
      ]
    },
    {
      "cell_type": "markdown",
      "metadata": {
        "id": "4phb85kzwwYr"
      },
      "source": [
        "# Полезные ссылки"
      ]
    },
    {
      "cell_type": "markdown",
      "metadata": {
        "id": "pKssX6n4wz7Y"
      },
      "source": [
        "- https://huggingface.co/transformers/training.html\n",
        "- https://github.com/huggingface/notebooks/blob/master/transformers_doc/custom_datasets.ipynb\n",
        "- https://www.kaggle.com/constantinwerner/three-berts-to-solve-intent-classification\n",
        "- https://discuss.huggingface.co/t/i-have-trained-my-classifier-now-how-do-i-do-predictions/3625 (возможно можно всю логику обернуть через pipe, тогда вроде как предсказания легко разобыть)"
      ]
    },
    {
      "cell_type": "code",
      "execution_count": 35,
      "metadata": {
        "tags": []
      },
      "outputs": [
        {
          "data": {
            "text/html": [
              "<div>\n",
              "<style scoped>\n",
              "    .dataframe tbody tr th:only-of-type {\n",
              "        vertical-align: middle;\n",
              "    }\n",
              "\n",
              "    .dataframe tbody tr th {\n",
              "        vertical-align: top;\n",
              "    }\n",
              "\n",
              "    .dataframe thead th {\n",
              "        text-align: right;\n",
              "    }\n",
              "</style>\n",
              "<table border=\"1\" class=\"dataframe\">\n",
              "  <thead>\n",
              "    <tr style=\"text-align: right;\">\n",
              "      <th></th>\n",
              "      <th>text</th>\n",
              "      <th>category</th>\n",
              "    </tr>\n",
              "  </thead>\n",
              "  <tbody>\n",
              "    <tr>\n",
              "      <th>0</th>\n",
              "      <td>парацетамол таблетки мг шт</td>\n",
              "      <td>9300</td>\n",
              "    </tr>\n",
              "  </tbody>\n",
              "</table>\n",
              "</div>"
            ],
            "text/plain": [
              "                         text category\n",
              "0  парацетамол таблетки мг шт     9300"
            ]
          },
          "execution_count": 35,
          "metadata": {},
          "output_type": "execute_result"
        }
      ],
      "source": [
        "from transformers import AutoModel\n",
        "from transformers import AutoTokenizer\n",
        "from transformers import AutoModelForSequenceClassification\n",
        "import pymorphy2\n",
        "import re\n",
        "tokenizer = AutoTokenizer.from_pretrained('.\\model3')\n",
        "model = AutoModelForSequenceClassification.from_pretrained('.\\model3')\n",
        "inp = pd.DataFrame(columns=['text', 'category'])\n",
        "inp = inp.append({'text':\"Парацетамол таблетки 500 мг 10 шт\",'category':'9300'}, ignore_index=True)\n",
        "inp['text'] = inp['text'].apply(lambda x: re.findall(r'[а-я]+', x.lower()))\n",
        "\n",
        "\n",
        "def pos(text, morph=pymorphy2.MorphAnalyzer()):\n",
        "    functors_pos = {'INTJ', 'PRCL', 'CONJ', 'PREP'}\n",
        "    r = []\n",
        "    for w in text:\n",
        "        if w not in functors_pos:\n",
        "            r.append(w)\n",
        "    return ' '.join(r)\n",
        "inp['text'] =inp['text'].apply(pos)\n",
        "inp"
      ]
    },
    {
      "cell_type": "code",
      "execution_count": 39,
      "metadata": {},
      "outputs": [
        {
          "ename": "AttributeError",
          "evalue": "module 'huggingface_hub.hf_api' has no attribute 'DatasetInfo'",
          "output_type": "error",
          "traceback": [
            "\u001b[1;31m---------------------------------------------------------------------------\u001b[0m",
            "\u001b[1;31mAttributeError\u001b[0m                            Traceback (most recent call last)",
            "\u001b[1;32m<ipython-input-39-dda0bdcfd3da>\u001b[0m in \u001b[0;36m<module>\u001b[1;34m\u001b[0m\n\u001b[1;32m----> 1\u001b[1;33m \u001b[1;32mfrom\u001b[0m \u001b[0mdatasets\u001b[0m \u001b[1;32mimport\u001b[0m \u001b[0mload_dataset\u001b[0m\u001b[1;33m,\u001b[0m \u001b[0mDataset\u001b[0m\u001b[1;33m\u001b[0m\u001b[1;33m\u001b[0m\u001b[0m\n\u001b[0m\u001b[0;32m      2\u001b[0m \u001b[1;33m\u001b[0m\u001b[0m\n\u001b[0;32m      3\u001b[0m \u001b[0mpred_dataset\u001b[0m \u001b[1;33m=\u001b[0m \u001b[0mDataset\u001b[0m\u001b[1;33m.\u001b[0m\u001b[0mfrom_pandas\u001b[0m\u001b[1;33m(\u001b[0m\u001b[0minp\u001b[0m\u001b[1;33m[\u001b[0m\u001b[1;33m[\u001b[0m\u001b[1;34m'text'\u001b[0m\u001b[1;33m,\u001b[0m \u001b[1;34m'category'\u001b[0m\u001b[1;33m]\u001b[0m\u001b[1;33m]\u001b[0m\u001b[1;33m)\u001b[0m\u001b[1;33m\u001b[0m\u001b[1;33m\u001b[0m\u001b[0m\n",
            "\u001b[1;32m~\\AppData\\Roaming\\Python\\Python39\\site-packages\\datasets\\__init__.py\u001b[0m in \u001b[0;36m<module>\u001b[1;34m\u001b[0m\n\u001b[0;32m     35\u001b[0m \u001b[1;32mfrom\u001b[0m \u001b[1;33m.\u001b[0m\u001b[0marrow_reader\u001b[0m \u001b[1;32mimport\u001b[0m \u001b[0mArrowReader\u001b[0m\u001b[1;33m,\u001b[0m \u001b[0mReadInstruction\u001b[0m\u001b[1;33m\u001b[0m\u001b[1;33m\u001b[0m\u001b[0m\n\u001b[0;32m     36\u001b[0m \u001b[1;32mfrom\u001b[0m \u001b[1;33m.\u001b[0m\u001b[0marrow_writer\u001b[0m \u001b[1;32mimport\u001b[0m \u001b[0mArrowWriter\u001b[0m\u001b[1;33m\u001b[0m\u001b[1;33m\u001b[0m\u001b[0m\n\u001b[1;32m---> 37\u001b[1;33m \u001b[1;32mfrom\u001b[0m \u001b[1;33m.\u001b[0m\u001b[0mbuilder\u001b[0m \u001b[1;32mimport\u001b[0m \u001b[0mArrowBasedBuilder\u001b[0m\u001b[1;33m,\u001b[0m \u001b[0mBeamBasedBuilder\u001b[0m\u001b[1;33m,\u001b[0m \u001b[0mBuilderConfig\u001b[0m\u001b[1;33m,\u001b[0m \u001b[0mDatasetBuilder\u001b[0m\u001b[1;33m,\u001b[0m \u001b[0mGeneratorBasedBuilder\u001b[0m\u001b[1;33m\u001b[0m\u001b[1;33m\u001b[0m\u001b[0m\n\u001b[0m\u001b[0;32m     38\u001b[0m \u001b[1;32mfrom\u001b[0m \u001b[1;33m.\u001b[0m\u001b[0mcombine\u001b[0m \u001b[1;32mimport\u001b[0m \u001b[0minterleave_datasets\u001b[0m\u001b[1;33m\u001b[0m\u001b[1;33m\u001b[0m\u001b[0m\n\u001b[0;32m     39\u001b[0m \u001b[1;32mfrom\u001b[0m \u001b[1;33m.\u001b[0m\u001b[0mdataset_dict\u001b[0m \u001b[1;32mimport\u001b[0m \u001b[0mDatasetDict\u001b[0m\u001b[1;33m,\u001b[0m \u001b[0mIterableDatasetDict\u001b[0m\u001b[1;33m\u001b[0m\u001b[1;33m\u001b[0m\u001b[0m\n",
            "\u001b[1;32m~\\AppData\\Roaming\\Python\\Python39\\site-packages\\datasets\\builder.py\u001b[0m in \u001b[0;36m<module>\u001b[1;34m\u001b[0m\n\u001b[0;32m     42\u001b[0m )\n\u001b[0;32m     43\u001b[0m \u001b[1;32mfrom\u001b[0m \u001b[1;33m.\u001b[0m\u001b[0marrow_writer\u001b[0m \u001b[1;32mimport\u001b[0m \u001b[0mArrowWriter\u001b[0m\u001b[1;33m,\u001b[0m \u001b[0mBeamWriter\u001b[0m\u001b[1;33m\u001b[0m\u001b[1;33m\u001b[0m\u001b[0m\n\u001b[1;32m---> 44\u001b[1;33m \u001b[1;32mfrom\u001b[0m \u001b[1;33m.\u001b[0m\u001b[0mdata_files\u001b[0m \u001b[1;32mimport\u001b[0m \u001b[0mDataFilesDict\u001b[0m\u001b[1;33m,\u001b[0m \u001b[0m_sanitize_patterns\u001b[0m\u001b[1;33m\u001b[0m\u001b[1;33m\u001b[0m\u001b[0m\n\u001b[0m\u001b[0;32m     45\u001b[0m \u001b[1;32mfrom\u001b[0m \u001b[1;33m.\u001b[0m\u001b[0mdataset_dict\u001b[0m \u001b[1;32mimport\u001b[0m \u001b[0mDatasetDict\u001b[0m\u001b[1;33m,\u001b[0m \u001b[0mIterableDatasetDict\u001b[0m\u001b[1;33m\u001b[0m\u001b[1;33m\u001b[0m\u001b[0m\n\u001b[0;32m     46\u001b[0m \u001b[1;32mfrom\u001b[0m \u001b[1;33m.\u001b[0m\u001b[0mfingerprint\u001b[0m \u001b[1;32mimport\u001b[0m \u001b[0mHasher\u001b[0m\u001b[1;33m\u001b[0m\u001b[1;33m\u001b[0m\u001b[0m\n",
            "\u001b[1;32m~\\AppData\\Roaming\\Python\\Python39\\site-packages\\datasets\\data_files.py\u001b[0m in \u001b[0;36m<module>\u001b[1;34m\u001b[0m\n\u001b[0;32m    118\u001b[0m \u001b[1;33m\u001b[0m\u001b[0m\n\u001b[0;32m    119\u001b[0m def _exec_patterns_in_dataset_repository(\n\u001b[1;32m--> 120\u001b[1;33m     \u001b[0mdataset_info\u001b[0m\u001b[1;33m:\u001b[0m \u001b[0mhuggingface_hub\u001b[0m\u001b[1;33m.\u001b[0m\u001b[0mhf_api\u001b[0m\u001b[1;33m.\u001b[0m\u001b[0mDatasetInfo\u001b[0m\u001b[1;33m,\u001b[0m\u001b[1;33m\u001b[0m\u001b[1;33m\u001b[0m\u001b[0m\n\u001b[0m\u001b[0;32m    121\u001b[0m     \u001b[0mpatterns\u001b[0m\u001b[1;33m:\u001b[0m \u001b[0mList\u001b[0m\u001b[1;33m[\u001b[0m\u001b[0mstr\u001b[0m\u001b[1;33m]\u001b[0m\u001b[1;33m,\u001b[0m\u001b[1;33m\u001b[0m\u001b[1;33m\u001b[0m\u001b[0m\n\u001b[0;32m    122\u001b[0m     \u001b[0mallowed_extensions\u001b[0m\u001b[1;33m:\u001b[0m \u001b[0mOptional\u001b[0m\u001b[1;33m[\u001b[0m\u001b[0mlist\u001b[0m\u001b[1;33m]\u001b[0m \u001b[1;33m=\u001b[0m \u001b[1;32mNone\u001b[0m\u001b[1;33m,\u001b[0m\u001b[1;33m\u001b[0m\u001b[1;33m\u001b[0m\u001b[0m\n",
            "\u001b[1;31mAttributeError\u001b[0m: module 'huggingface_hub.hf_api' has no attribute 'DatasetInfo'"
          ]
        }
      ],
      "source": [
        "\n",
        "from datasets import load_dataset, Dataset\n",
        "\n",
        "pred_dataset = Dataset.from_pandas(inp[['text', 'category']])"
      ]
    },
    {
      "cell_type": "code",
      "execution_count": 31,
      "metadata": {},
      "outputs": [
        {
          "ename": "NameError",
          "evalue": "name 'pred_dataset' is not defined",
          "output_type": "error",
          "traceback": [
            "\u001b[1;31m---------------------------------------------------------------------------\u001b[0m",
            "\u001b[1;31mNameError\u001b[0m                                 Traceback (most recent call last)",
            "\u001b[1;32m<ipython-input-31-b6ec538c839f>\u001b[0m in \u001b[0;36m<module>\u001b[1;34m\u001b[0m\n\u001b[1;32m----> 1\u001b[1;33m \u001b[0minputs\u001b[0m \u001b[1;33m=\u001b[0m \u001b[0mtokenizer\u001b[0m\u001b[1;33m(\u001b[0m\u001b[0mpred_dataset\u001b[0m\u001b[1;33m,\u001b[0m \u001b[0mreturn_tensors\u001b[0m\u001b[1;33m=\u001b[0m\u001b[1;34m\"pt\"\u001b[0m\u001b[1;33m,\u001b[0m \u001b[0mpadding\u001b[0m\u001b[1;33m=\u001b[0m\u001b[1;32mTrue\u001b[0m\u001b[1;33m,\u001b[0m \u001b[0mtruncation\u001b[0m\u001b[1;33m=\u001b[0m\u001b[1;32mTrue\u001b[0m\u001b[1;33m)\u001b[0m\u001b[1;33m\u001b[0m\u001b[1;33m\u001b[0m\u001b[0m\n\u001b[0m\u001b[0;32m      2\u001b[0m \u001b[0mgeneration_output\u001b[0m \u001b[1;33m=\u001b[0m \u001b[0mmodel\u001b[0m\u001b[1;33m.\u001b[0m\u001b[0mgenerate\u001b[0m\u001b[1;33m(\u001b[0m\u001b[1;33m**\u001b[0m\u001b[0minputs\u001b[0m\u001b[1;33m,\u001b[0m \u001b[0mreturn_dict_in_generate\u001b[0m\u001b[1;33m=\u001b[0m\u001b[1;32mTrue\u001b[0m\u001b[1;33m,\u001b[0m \u001b[0moutput_scores\u001b[0m\u001b[1;33m=\u001b[0m\u001b[1;32mTrue\u001b[0m\u001b[1;33m)\u001b[0m\u001b[1;33m\u001b[0m\u001b[1;33m\u001b[0m\u001b[0m\n",
            "\u001b[1;31mNameError\u001b[0m: name 'pred_dataset' is not defined"
          ]
        }
      ],
      "source": [
        "inputs = tokenizer(pred_dataset, return_tensors=\"pt\", padding=True, truncation=True)\n",
        "generation_output = model.generate(**inputs, return_dict_in_generate=True, output_scores=True)"
      ]
    },
    {
      "cell_type": "code",
      "execution_count": 19,
      "metadata": {},
      "outputs": [
        {
          "data": {
            "text/plain": [
              "{'input_ids': [2, 14892, 1232, 2550, 15585, 4375, 845, 18814, 1588, 954, 1029, 26068, 575, 336, 751, 3, 16110, 1140, 3], 'token_type_ids': [0, 0, 0, 0, 0, 0, 0, 0, 0, 0, 0, 0, 0, 0, 0, 0, 1, 1, 1], 'attention_mask': [1, 1, 1, 1, 1, 1, 1, 1, 1, 1, 1, 1, 1, 1, 1, 1, 1, 1, 1]}"
            ]
          },
          "execution_count": 19,
          "metadata": {},
          "output_type": "execute_result"
        }
      ],
      "source": [
        "inputs"
      ]
    },
    {
      "cell_type": "code",
      "execution_count": null,
      "metadata": {},
      "outputs": [],
      "source": []
    }
  ],
  "metadata": {
    "accelerator": "GPU",
    "colab": {
      "collapsed_sections": [],
      "name": "hackai_nlp.ipynb",
      "provenance": []
    },
    "kernelspec": {
      "display_name": "Python 3.9.4 64-bit",
      "name": "python39464bit7f3a8da6d8ac43408e28d515dc391d8f"
    },
    "language_info": {
      "codemirror_mode": {
        "name": "ipython",
        "version": 3
      },
      "file_extension": ".py",
      "mimetype": "text/x-python",
      "name": "python",
      "nbconvert_exporter": "python",
      "pygments_lexer": "ipython3",
      "version": "3.9.4-final"
    },
    "orig_nbformat": 2,
    "widgets": {
      "application/vnd.jupyter.widget-state+json": {
        "00b201c86c764f358463cc27ae82aca1": {
          "model_module": "@jupyter-widgets/controls",
          "model_module_version": "1.5.0",
          "model_name": "HBoxModel",
          "state": {
            "_dom_classes": [],
            "_model_module": "@jupyter-widgets/controls",
            "_model_module_version": "1.5.0",
            "_model_name": "HBoxModel",
            "_view_count": null,
            "_view_module": "@jupyter-widgets/controls",
            "_view_module_version": "1.5.0",
            "_view_name": "HBoxView",
            "box_style": "",
            "children": [
              "IPY_MODEL_27549e71db5b4d01a95071ec23c364ac",
              "IPY_MODEL_ecacf575a10543f7abfe4502c9a9b5b2",
              "IPY_MODEL_97647b7ca0164c75b1e158ef6c39b295"
            ],
            "layout": "IPY_MODEL_f9c234a8abae4778a9364086f992b587"
          }
        },
        "1d1256e64acf40aaa8362a14a8060a76": {
          "model_module": "@jupyter-widgets/base",
          "model_module_version": "1.2.0",
          "model_name": "LayoutModel",
          "state": {
            "_model_module": "@jupyter-widgets/base",
            "_model_module_version": "1.2.0",
            "_model_name": "LayoutModel",
            "_view_count": null,
            "_view_module": "@jupyter-widgets/base",
            "_view_module_version": "1.2.0",
            "_view_name": "LayoutView",
            "align_content": null,
            "align_items": null,
            "align_self": null,
            "border": null,
            "bottom": null,
            "display": null,
            "flex": null,
            "flex_flow": null,
            "grid_area": null,
            "grid_auto_columns": null,
            "grid_auto_flow": null,
            "grid_auto_rows": null,
            "grid_column": null,
            "grid_gap": null,
            "grid_row": null,
            "grid_template_areas": null,
            "grid_template_columns": null,
            "grid_template_rows": null,
            "height": null,
            "justify_content": null,
            "justify_items": null,
            "left": null,
            "margin": null,
            "max_height": null,
            "max_width": null,
            "min_height": null,
            "min_width": null,
            "object_fit": null,
            "object_position": null,
            "order": null,
            "overflow": null,
            "overflow_x": null,
            "overflow_y": null,
            "padding": null,
            "right": null,
            "top": null,
            "visibility": null,
            "width": null
          }
        },
        "209c3172f3964abe8d766a9b1f6fc411": {
          "model_module": "@jupyter-widgets/base",
          "model_module_version": "1.2.0",
          "model_name": "LayoutModel",
          "state": {
            "_model_module": "@jupyter-widgets/base",
            "_model_module_version": "1.2.0",
            "_model_name": "LayoutModel",
            "_view_count": null,
            "_view_module": "@jupyter-widgets/base",
            "_view_module_version": "1.2.0",
            "_view_name": "LayoutView",
            "align_content": null,
            "align_items": null,
            "align_self": null,
            "border": null,
            "bottom": null,
            "display": null,
            "flex": null,
            "flex_flow": null,
            "grid_area": null,
            "grid_auto_columns": null,
            "grid_auto_flow": null,
            "grid_auto_rows": null,
            "grid_column": null,
            "grid_gap": null,
            "grid_row": null,
            "grid_template_areas": null,
            "grid_template_columns": null,
            "grid_template_rows": null,
            "height": null,
            "justify_content": null,
            "justify_items": null,
            "left": null,
            "margin": null,
            "max_height": null,
            "max_width": null,
            "min_height": null,
            "min_width": null,
            "object_fit": null,
            "object_position": null,
            "order": null,
            "overflow": null,
            "overflow_x": null,
            "overflow_y": null,
            "padding": null,
            "right": null,
            "top": null,
            "visibility": null,
            "width": null
          }
        },
        "27549e71db5b4d01a95071ec23c364ac": {
          "model_module": "@jupyter-widgets/controls",
          "model_module_version": "1.5.0",
          "model_name": "HTMLModel",
          "state": {
            "_dom_classes": [],
            "_model_module": "@jupyter-widgets/controls",
            "_model_module_version": "1.5.0",
            "_model_name": "HTMLModel",
            "_view_count": null,
            "_view_module": "@jupyter-widgets/controls",
            "_view_module_version": "1.5.0",
            "_view_name": "HTMLView",
            "description": "",
            "description_tooltip": null,
            "layout": "IPY_MODEL_a294a01f455449d8a7f2b28575306c13",
            "placeholder": "​",
            "style": "IPY_MODEL_ea2146b390804b4e8976150ecb4ad575",
            "value": "100%"
          }
        },
        "360b04033b5f46d2b87656e688ec8e08": {
          "model_module": "@jupyter-widgets/base",
          "model_module_version": "1.2.0",
          "model_name": "LayoutModel",
          "state": {
            "_model_module": "@jupyter-widgets/base",
            "_model_module_version": "1.2.0",
            "_model_name": "LayoutModel",
            "_view_count": null,
            "_view_module": "@jupyter-widgets/base",
            "_view_module_version": "1.2.0",
            "_view_name": "LayoutView",
            "align_content": null,
            "align_items": null,
            "align_self": null,
            "border": null,
            "bottom": null,
            "display": null,
            "flex": null,
            "flex_flow": null,
            "grid_area": null,
            "grid_auto_columns": null,
            "grid_auto_flow": null,
            "grid_auto_rows": null,
            "grid_column": null,
            "grid_gap": null,
            "grid_row": null,
            "grid_template_areas": null,
            "grid_template_columns": null,
            "grid_template_rows": null,
            "height": null,
            "justify_content": null,
            "justify_items": null,
            "left": null,
            "margin": null,
            "max_height": null,
            "max_width": null,
            "min_height": null,
            "min_width": null,
            "object_fit": null,
            "object_position": null,
            "order": null,
            "overflow": null,
            "overflow_x": null,
            "overflow_y": null,
            "padding": null,
            "right": null,
            "top": null,
            "visibility": null,
            "width": null
          }
        },
        "3f8f4301d9c54508a27cff2485f9e2ab": {
          "model_module": "@jupyter-widgets/controls",
          "model_module_version": "1.5.0",
          "model_name": "DescriptionStyleModel",
          "state": {
            "_model_module": "@jupyter-widgets/controls",
            "_model_module_version": "1.5.0",
            "_model_name": "DescriptionStyleModel",
            "_view_count": null,
            "_view_module": "@jupyter-widgets/base",
            "_view_module_version": "1.2.0",
            "_view_name": "StyleView",
            "description_width": ""
          }
        },
        "55008f0ecaa74a3cb6b9f8eb68491367": {
          "model_module": "@jupyter-widgets/controls",
          "model_module_version": "1.5.0",
          "model_name": "ProgressStyleModel",
          "state": {
            "_model_module": "@jupyter-widgets/controls",
            "_model_module_version": "1.5.0",
            "_model_name": "ProgressStyleModel",
            "_view_count": null,
            "_view_module": "@jupyter-widgets/base",
            "_view_module_version": "1.2.0",
            "_view_name": "StyleView",
            "bar_color": null,
            "description_width": ""
          }
        },
        "6b1e00ed5f07417b8da2a0b54a28371c": {
          "model_module": "@jupyter-widgets/controls",
          "model_module_version": "1.5.0",
          "model_name": "DescriptionStyleModel",
          "state": {
            "_model_module": "@jupyter-widgets/controls",
            "_model_module_version": "1.5.0",
            "_model_name": "DescriptionStyleModel",
            "_view_count": null,
            "_view_module": "@jupyter-widgets/base",
            "_view_module_version": "1.2.0",
            "_view_name": "StyleView",
            "description_width": ""
          }
        },
        "7b70e74cc42a484783c9c000cdf2275d": {
          "model_module": "@jupyter-widgets/base",
          "model_module_version": "1.2.0",
          "model_name": "LayoutModel",
          "state": {
            "_model_module": "@jupyter-widgets/base",
            "_model_module_version": "1.2.0",
            "_model_name": "LayoutModel",
            "_view_count": null,
            "_view_module": "@jupyter-widgets/base",
            "_view_module_version": "1.2.0",
            "_view_name": "LayoutView",
            "align_content": null,
            "align_items": null,
            "align_self": null,
            "border": null,
            "bottom": null,
            "display": null,
            "flex": null,
            "flex_flow": null,
            "grid_area": null,
            "grid_auto_columns": null,
            "grid_auto_flow": null,
            "grid_auto_rows": null,
            "grid_column": null,
            "grid_gap": null,
            "grid_row": null,
            "grid_template_areas": null,
            "grid_template_columns": null,
            "grid_template_rows": null,
            "height": null,
            "justify_content": null,
            "justify_items": null,
            "left": null,
            "margin": null,
            "max_height": null,
            "max_width": null,
            "min_height": null,
            "min_width": null,
            "object_fit": null,
            "object_position": null,
            "order": null,
            "overflow": null,
            "overflow_x": null,
            "overflow_y": null,
            "padding": null,
            "right": null,
            "top": null,
            "visibility": null,
            "width": null
          }
        },
        "81b63b44012442839b1d6b433c40b252": {
          "model_module": "@jupyter-widgets/controls",
          "model_module_version": "1.5.0",
          "model_name": "DescriptionStyleModel",
          "state": {
            "_model_module": "@jupyter-widgets/controls",
            "_model_module_version": "1.5.0",
            "_model_name": "DescriptionStyleModel",
            "_view_count": null,
            "_view_module": "@jupyter-widgets/base",
            "_view_module_version": "1.2.0",
            "_view_name": "StyleView",
            "description_width": ""
          }
        },
        "87ca5b8f1e0d4225a840cf35b2b94ef2": {
          "model_module": "@jupyter-widgets/controls",
          "model_module_version": "1.5.0",
          "model_name": "HTMLModel",
          "state": {
            "_dom_classes": [],
            "_model_module": "@jupyter-widgets/controls",
            "_model_module_version": "1.5.0",
            "_model_name": "HTMLModel",
            "_view_count": null,
            "_view_module": "@jupyter-widgets/controls",
            "_view_module_version": "1.5.0",
            "_view_name": "HTMLView",
            "description": "",
            "description_tooltip": null,
            "layout": "IPY_MODEL_360b04033b5f46d2b87656e688ec8e08",
            "placeholder": "​",
            "style": "IPY_MODEL_6b1e00ed5f07417b8da2a0b54a28371c",
            "value": " 81/81 [00:18&lt;00:00,  2.92ba/s]"
          }
        },
        "97647b7ca0164c75b1e158ef6c39b295": {
          "model_module": "@jupyter-widgets/controls",
          "model_module_version": "1.5.0",
          "model_name": "HTMLModel",
          "state": {
            "_dom_classes": [],
            "_model_module": "@jupyter-widgets/controls",
            "_model_module_version": "1.5.0",
            "_model_name": "HTMLModel",
            "_view_count": null,
            "_view_module": "@jupyter-widgets/controls",
            "_view_module_version": "1.5.0",
            "_view_name": "HTMLView",
            "description": "",
            "description_tooltip": null,
            "layout": "IPY_MODEL_209c3172f3964abe8d766a9b1f6fc411",
            "placeholder": "​",
            "style": "IPY_MODEL_3f8f4301d9c54508a27cff2485f9e2ab",
            "value": " 188/188 [00:41&lt;00:00,  4.76ba/s]"
          }
        },
        "98c237d827c548538f391c82a91f9eb9": {
          "model_module": "@jupyter-widgets/controls",
          "model_module_version": "1.5.0",
          "model_name": "HTMLModel",
          "state": {
            "_dom_classes": [],
            "_model_module": "@jupyter-widgets/controls",
            "_model_module_version": "1.5.0",
            "_model_name": "HTMLModel",
            "_view_count": null,
            "_view_module": "@jupyter-widgets/controls",
            "_view_module_version": "1.5.0",
            "_view_name": "HTMLView",
            "description": "",
            "description_tooltip": null,
            "layout": "IPY_MODEL_cd82b601ee6245fc84f679b828bc6573",
            "placeholder": "​",
            "style": "IPY_MODEL_81b63b44012442839b1d6b433c40b252",
            "value": "100%"
          }
        },
        "a294a01f455449d8a7f2b28575306c13": {
          "model_module": "@jupyter-widgets/base",
          "model_module_version": "1.2.0",
          "model_name": "LayoutModel",
          "state": {
            "_model_module": "@jupyter-widgets/base",
            "_model_module_version": "1.2.0",
            "_model_name": "LayoutModel",
            "_view_count": null,
            "_view_module": "@jupyter-widgets/base",
            "_view_module_version": "1.2.0",
            "_view_name": "LayoutView",
            "align_content": null,
            "align_items": null,
            "align_self": null,
            "border": null,
            "bottom": null,
            "display": null,
            "flex": null,
            "flex_flow": null,
            "grid_area": null,
            "grid_auto_columns": null,
            "grid_auto_flow": null,
            "grid_auto_rows": null,
            "grid_column": null,
            "grid_gap": null,
            "grid_row": null,
            "grid_template_areas": null,
            "grid_template_columns": null,
            "grid_template_rows": null,
            "height": null,
            "justify_content": null,
            "justify_items": null,
            "left": null,
            "margin": null,
            "max_height": null,
            "max_width": null,
            "min_height": null,
            "min_width": null,
            "object_fit": null,
            "object_position": null,
            "order": null,
            "overflow": null,
            "overflow_x": null,
            "overflow_y": null,
            "padding": null,
            "right": null,
            "top": null,
            "visibility": null,
            "width": null
          }
        },
        "a91377fd19094b959ff6c6022a18f56c": {
          "model_module": "@jupyter-widgets/controls",
          "model_module_version": "1.5.0",
          "model_name": "ProgressStyleModel",
          "state": {
            "_model_module": "@jupyter-widgets/controls",
            "_model_module_version": "1.5.0",
            "_model_name": "ProgressStyleModel",
            "_view_count": null,
            "_view_module": "@jupyter-widgets/base",
            "_view_module_version": "1.2.0",
            "_view_name": "StyleView",
            "bar_color": null,
            "description_width": ""
          }
        },
        "c024f891ff3149aba3ad95235217923f": {
          "model_module": "@jupyter-widgets/controls",
          "model_module_version": "1.5.0",
          "model_name": "FloatProgressModel",
          "state": {
            "_dom_classes": [],
            "_model_module": "@jupyter-widgets/controls",
            "_model_module_version": "1.5.0",
            "_model_name": "FloatProgressModel",
            "_view_count": null,
            "_view_module": "@jupyter-widgets/controls",
            "_view_module_version": "1.5.0",
            "_view_name": "ProgressView",
            "bar_style": "success",
            "description": "",
            "description_tooltip": null,
            "layout": "IPY_MODEL_d816a5505d924c36af46091f884d363b",
            "max": 81,
            "min": 0,
            "orientation": "horizontal",
            "style": "IPY_MODEL_a91377fd19094b959ff6c6022a18f56c",
            "value": 81
          }
        },
        "cd82b601ee6245fc84f679b828bc6573": {
          "model_module": "@jupyter-widgets/base",
          "model_module_version": "1.2.0",
          "model_name": "LayoutModel",
          "state": {
            "_model_module": "@jupyter-widgets/base",
            "_model_module_version": "1.2.0",
            "_model_name": "LayoutModel",
            "_view_count": null,
            "_view_module": "@jupyter-widgets/base",
            "_view_module_version": "1.2.0",
            "_view_name": "LayoutView",
            "align_content": null,
            "align_items": null,
            "align_self": null,
            "border": null,
            "bottom": null,
            "display": null,
            "flex": null,
            "flex_flow": null,
            "grid_area": null,
            "grid_auto_columns": null,
            "grid_auto_flow": null,
            "grid_auto_rows": null,
            "grid_column": null,
            "grid_gap": null,
            "grid_row": null,
            "grid_template_areas": null,
            "grid_template_columns": null,
            "grid_template_rows": null,
            "height": null,
            "justify_content": null,
            "justify_items": null,
            "left": null,
            "margin": null,
            "max_height": null,
            "max_width": null,
            "min_height": null,
            "min_width": null,
            "object_fit": null,
            "object_position": null,
            "order": null,
            "overflow": null,
            "overflow_x": null,
            "overflow_y": null,
            "padding": null,
            "right": null,
            "top": null,
            "visibility": null,
            "width": null
          }
        },
        "d816a5505d924c36af46091f884d363b": {
          "model_module": "@jupyter-widgets/base",
          "model_module_version": "1.2.0",
          "model_name": "LayoutModel",
          "state": {
            "_model_module": "@jupyter-widgets/base",
            "_model_module_version": "1.2.0",
            "_model_name": "LayoutModel",
            "_view_count": null,
            "_view_module": "@jupyter-widgets/base",
            "_view_module_version": "1.2.0",
            "_view_name": "LayoutView",
            "align_content": null,
            "align_items": null,
            "align_self": null,
            "border": null,
            "bottom": null,
            "display": null,
            "flex": null,
            "flex_flow": null,
            "grid_area": null,
            "grid_auto_columns": null,
            "grid_auto_flow": null,
            "grid_auto_rows": null,
            "grid_column": null,
            "grid_gap": null,
            "grid_row": null,
            "grid_template_areas": null,
            "grid_template_columns": null,
            "grid_template_rows": null,
            "height": null,
            "justify_content": null,
            "justify_items": null,
            "left": null,
            "margin": null,
            "max_height": null,
            "max_width": null,
            "min_height": null,
            "min_width": null,
            "object_fit": null,
            "object_position": null,
            "order": null,
            "overflow": null,
            "overflow_x": null,
            "overflow_y": null,
            "padding": null,
            "right": null,
            "top": null,
            "visibility": null,
            "width": null
          }
        },
        "ea2146b390804b4e8976150ecb4ad575": {
          "model_module": "@jupyter-widgets/controls",
          "model_module_version": "1.5.0",
          "model_name": "DescriptionStyleModel",
          "state": {
            "_model_module": "@jupyter-widgets/controls",
            "_model_module_version": "1.5.0",
            "_model_name": "DescriptionStyleModel",
            "_view_count": null,
            "_view_module": "@jupyter-widgets/base",
            "_view_module_version": "1.2.0",
            "_view_name": "StyleView",
            "description_width": ""
          }
        },
        "ecacf575a10543f7abfe4502c9a9b5b2": {
          "model_module": "@jupyter-widgets/controls",
          "model_module_version": "1.5.0",
          "model_name": "FloatProgressModel",
          "state": {
            "_dom_classes": [],
            "_model_module": "@jupyter-widgets/controls",
            "_model_module_version": "1.5.0",
            "_model_name": "FloatProgressModel",
            "_view_count": null,
            "_view_module": "@jupyter-widgets/controls",
            "_view_module_version": "1.5.0",
            "_view_name": "ProgressView",
            "bar_style": "success",
            "description": "",
            "description_tooltip": null,
            "layout": "IPY_MODEL_1d1256e64acf40aaa8362a14a8060a76",
            "max": 188,
            "min": 0,
            "orientation": "horizontal",
            "style": "IPY_MODEL_55008f0ecaa74a3cb6b9f8eb68491367",
            "value": 188
          }
        },
        "ee9ef28a75234f618e75a9d169fc309c": {
          "model_module": "@jupyter-widgets/controls",
          "model_module_version": "1.5.0",
          "model_name": "HBoxModel",
          "state": {
            "_dom_classes": [],
            "_model_module": "@jupyter-widgets/controls",
            "_model_module_version": "1.5.0",
            "_model_name": "HBoxModel",
            "_view_count": null,
            "_view_module": "@jupyter-widgets/controls",
            "_view_module_version": "1.5.0",
            "_view_name": "HBoxView",
            "box_style": "",
            "children": [
              "IPY_MODEL_98c237d827c548538f391c82a91f9eb9",
              "IPY_MODEL_c024f891ff3149aba3ad95235217923f",
              "IPY_MODEL_87ca5b8f1e0d4225a840cf35b2b94ef2"
            ],
            "layout": "IPY_MODEL_7b70e74cc42a484783c9c000cdf2275d"
          }
        },
        "f9c234a8abae4778a9364086f992b587": {
          "model_module": "@jupyter-widgets/base",
          "model_module_version": "1.2.0",
          "model_name": "LayoutModel",
          "state": {
            "_model_module": "@jupyter-widgets/base",
            "_model_module_version": "1.2.0",
            "_model_name": "LayoutModel",
            "_view_count": null,
            "_view_module": "@jupyter-widgets/base",
            "_view_module_version": "1.2.0",
            "_view_name": "LayoutView",
            "align_content": null,
            "align_items": null,
            "align_self": null,
            "border": null,
            "bottom": null,
            "display": null,
            "flex": null,
            "flex_flow": null,
            "grid_area": null,
            "grid_auto_columns": null,
            "grid_auto_flow": null,
            "grid_auto_rows": null,
            "grid_column": null,
            "grid_gap": null,
            "grid_row": null,
            "grid_template_areas": null,
            "grid_template_columns": null,
            "grid_template_rows": null,
            "height": null,
            "justify_content": null,
            "justify_items": null,
            "left": null,
            "margin": null,
            "max_height": null,
            "max_width": null,
            "min_height": null,
            "min_width": null,
            "object_fit": null,
            "object_position": null,
            "order": null,
            "overflow": null,
            "overflow_x": null,
            "overflow_y": null,
            "padding": null,
            "right": null,
            "top": null,
            "visibility": null,
            "width": null
          }
        }
      }
    }
  },
  "nbformat": 4,
  "nbformat_minor": 0
}
